{
 "cells": [
  {
   "cell_type": "code",
   "execution_count": 1,
   "metadata": {},
   "outputs": [],
   "source": [
    "import numpy as np\n",
    "from astropy import units as u\n",
    "from astropy import constants as c\n",
    "from astroquery.vizier import Vizier\n",
    "from astropy.coordinates import SkyCoord\n",
    "from astropy.table import Table\n",
    "from astropy.io import fits\n",
    "import matplotlib.pyplot as plt\n",
    "import matplotlib.image as mpimg\n",
    "#plt.style.context('seaborn-talk')\n",
    "plt.style.use('dark_background')"
   ]
  },
  {
   "cell_type": "code",
   "execution_count": 2,
   "metadata": {},
   "outputs": [],
   "source": [
    "from miris_filter_function import flux_pa, flux_paacl#, flux_paach"
   ]
  },
  {
   "cell_type": "code",
   "execution_count": 3,
   "metadata": {},
   "outputs": [
    {
     "name": "stderr",
     "output_type": "stream",
     "text": [
      "flux_adjusted.dat already exists. Automatically overwriting ASCII files is deprecated. Use the argument 'overwrite=True' in the future.\n"
     ]
    }
   ],
   "source": [
    "tbl = Table([flux_pa, flux_paacl], names=('flux_pa', 'flux_paacl'))\n",
    "tbl.write('flux_adjusted.dat', format='ascii')"
   ]
  },
  {
   "cell_type": "code",
   "execution_count": 4,
   "metadata": {},
   "outputs": [
    {
     "data": {
      "text/html": [
       "<i>Table length=12</i>\n",
       "<table id=\"table2190852431048\" class=\"table-striped table-bordered table-condensed\">\n",
       "<thead><tr><th>flux_pa</th><th>flux_paacl</th></tr></thead>\n",
       "<thead><tr><th>object</th><th>object</th></tr></thead>\n",
       "<tr><td>999314427.717246 Jy</td><td>-284314372.86063254 Jy</td></tr>\n",
       "<tr><td>785872103.8494831 Jy</td><td>-229310383.06183943 Jy</td></tr>\n",
       "<tr><td>837352463.763035 Jy</td><td>-217903659.2212417 Jy</td></tr>\n",
       "<tr><td>1040307962.281863 Jy</td><td>-249579180.16621798 Jy</td></tr>\n",
       "<tr><td>1151661334.6763084 Jy</td><td>-270796874.3234095 Jy</td></tr>\n",
       "<tr><td>1316572229.2067192 Jy</td><td>-305447589.3163055 Jy</td></tr>\n",
       "<tr><td>1424121376.4161234 Jy</td><td>-328881279.3411323 Jy</td></tr>\n",
       "<tr><td>1484223360.6514149 Jy</td><td>-342515147.1084585 Jy</td></tr>\n",
       "<tr><td>1447099774.3307707 Jy</td><td>-334028340.9833388 Jy</td></tr>\n",
       "<tr><td>1537638065.023087 Jy</td><td>-354150863.66570693 Jy</td></tr>\n",
       "<tr><td>1780611884.4836502 Jy</td><td>-410619677.6436028 Jy</td></tr>\n",
       "<tr><td>1827439762.935249 Jy</td><td>-421856783.330934 Jy</td></tr>\n",
       "</table>"
      ],
      "text/plain": [
       "<Table length=12>\n",
       "       flux_pa              flux_paacl      \n",
       "        object                object        \n",
       "--------------------- ----------------------\n",
       "  999314427.717246 Jy -284314372.86063254 Jy\n",
       " 785872103.8494831 Jy -229310383.06183943 Jy\n",
       "  837352463.763035 Jy  -217903659.2212417 Jy\n",
       " 1040307962.281863 Jy -249579180.16621798 Jy\n",
       "1151661334.6763084 Jy  -270796874.3234095 Jy\n",
       "1316572229.2067192 Jy  -305447589.3163055 Jy\n",
       "1424121376.4161234 Jy  -328881279.3411323 Jy\n",
       "1484223360.6514149 Jy  -342515147.1084585 Jy\n",
       "1447099774.3307707 Jy  -334028340.9833388 Jy\n",
       " 1537638065.023087 Jy -354150863.66570693 Jy\n",
       "1780611884.4836502 Jy  -410619677.6436028 Jy\n",
       " 1827439762.935249 Jy   -421856783.330934 Jy"
      ]
     },
     "execution_count": 4,
     "metadata": {},
     "output_type": "execute_result"
    }
   ],
   "source": [
    "tbl"
   ]
  },
  {
   "cell_type": "code",
   "execution_count": null,
   "metadata": {},
   "outputs": [],
   "source": []
  }
 ],
 "metadata": {
  "kernelspec": {
   "display_name": "Python 3",
   "language": "python",
   "name": "python3"
  },
  "language_info": {
   "codemirror_mode": {
    "name": "ipython",
    "version": 3
   },
   "file_extension": ".py",
   "mimetype": "text/x-python",
   "name": "python",
   "nbconvert_exporter": "python",
   "pygments_lexer": "ipython3",
   "version": "3.7.4"
  }
 },
 "nbformat": 4,
 "nbformat_minor": 2
}
