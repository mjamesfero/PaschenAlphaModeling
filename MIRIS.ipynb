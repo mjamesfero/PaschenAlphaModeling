{
 "cells": [
  {
   "cell_type": "code",
   "execution_count": null,
   "metadata": {},
   "outputs": [],
   "source": [
    "import numpy as np\n",
    "from astropy import units as u\n",
    "from astropy import constants as c\n",
    "from random import choice\n",
    "from astropy.table import Table\n",
    "from astropy.io import fits\n",
    "import matplotlib.pyplot as plt\n",
    "plt.style.use('dark_background')"
   ]
  },
  {
   "cell_type": "code",
   "execution_count": null,
   "metadata": {},
   "outputs": [],
   "source": [
    "models_table = Table.read('coelho14_model_paa.fits')"
   ]
  },
  {
   "cell_type": "code",
   "execution_count": 2,
   "metadata": {},
   "outputs": [
    {
     "name": "stderr",
     "output_type": "stream",
     "text": [
      "C:\\Users\\mjfer\\Desktop\\Code\\Adam Research\\GitHub\\PaschenAlphaModeling\\MIRIS_data\\get_miris_mosaic.py:18: UserWarning: No parser was explicitly specified, so I'm using the best available HTML parser for this system (\"lxml\"). This usually isn't a problem, but if you run this code on another system, or in a different virtual environment, it may use a different parser and behave differently.\n",
      "\n",
      "The code that caused this warning is on line 18 of the file C:\\Users\\mjfer\\Desktop\\Code\\Adam Research\\GitHub\\PaschenAlphaModeling\\MIRIS_data\\get_miris_mosaic.py. To get rid of this warning, pass the additional argument 'features=\"lxml\"' to the BeautifulSoup constructor.\n",
      "\n",
      "  soup = BeautifulSoup(response.text, parser='html.parser')\n",
      "C:\\Users\\mjfer\\Desktop\\Code\\Adam Research\\GitHub\\PaschenAlphaModeling\\MIRIS_data\\get_miris_mosaic.py:44: RuntimeWarning: invalid value encountered in power\n",
      "  contsub = line[0].data - cont[0].data**1.1 * 0.35\n"
     ]
    }
   ],
   "source": [
    "%run ./MIRIS_data/get_miris_mosaic.py"
   ]
  },
  {
   "cell_type": "code",
   "execution_count": null,
   "metadata": {},
   "outputs": [],
   "source": []
  }
 ],
 "metadata": {
  "kernelspec": {
   "display_name": "Python 3",
   "language": "python",
   "name": "python3"
  },
  "language_info": {
   "codemirror_mode": {
    "name": "ipython",
    "version": 3
   },
   "file_extension": ".py",
   "mimetype": "text/x-python",
   "name": "python",
   "nbconvert_exporter": "python",
   "pygments_lexer": "ipython3",
   "version": "3.7.4"
  }
 },
 "nbformat": 4,
 "nbformat_minor": 2
}
