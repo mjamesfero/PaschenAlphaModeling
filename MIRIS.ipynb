{
 "cells": [
  {
   "cell_type": "code",
   "execution_count": 1,
   "metadata": {},
   "outputs": [
    {
     "data": {
      "text/plain": [
       "<contextlib._GeneratorContextManager at 0x2a13ce4dd88>"
      ]
     },
     "execution_count": 1,
     "metadata": {},
     "output_type": "execute_result"
    }
   ],
   "source": [
    "import numpy as np\n",
    "from astropy import units as u\n",
    "from astropy import constants as c\n",
    "from astroquery.vizier import Vizier\n",
    "from astropy.coordinates import SkyCoord\n",
    "from astropy.table import Table\n",
    "from astropy.io import fits\n",
    "import matplotlib.pyplot as plt\n",
    "plt.style.context('seaborn-talk')"
   ]
  },
  {
   "cell_type": "code",
   "execution_count": 2,
   "metadata": {},
   "outputs": [],
   "source": [
    "models_table = Table.read('coelho14_model_paa.fits')"
   ]
  },
  {
   "cell_type": "code",
   "execution_count": 3,
   "metadata": {},
   "outputs": [],
   "source": [
    "import miris_functions\n",
    "from miris_functions import pixel_stars, closest_model, make_sed_plot"
   ]
  },
  {
   "cell_type": "code",
   "execution_count": 4,
   "metadata": {
    "scrolled": false
   },
   "outputs": [
    {
     "name": "stdout",
     "output_type": "stream",
     "text": [
      "no vvv catalog\n",
      "no vvv catalog\n",
      "no vvv catalog\n"
     ]
    }
   ],
   "source": [
    "table, catalog, header = pixel_stars(11.530693333333332*u.deg, 1.8454741666666667*u.deg, 47.534*u.arcsec, 47.534*u.arcsec)\n",
    "table_p, catalog, header = pixel_stars(11.530693333333332*u.deg, 1.8454741666666667*u.deg, 47.534*u.arcsec, 47.534*u.arcsec, model='pashion')\n",
    "table_j, catalog, header = pixel_stars(11.530693333333332*u.deg, 1.8454741666666667*u.deg, 47.534*u.arcsec, 47.534*u.arcsec, model='ASASD')"
   ]
  },
  {
   "cell_type": "code",
   "execution_count": 5,
   "metadata": {},
   "outputs": [
    {
     "name": "stdout",
     "output_type": "stream",
     "text": [
      "no vvv catalog\n"
     ]
    }
   ],
   "source": [
    "table2, catalog2, header2 = pixel_stars(11.537702222222222*u.deg, 1.8337469444444445*u.deg, 47.707*u.arcsec, 49.615*u.arcsec)"
   ]
  },
  {
   "cell_type": "code",
   "execution_count": 6,
   "metadata": {},
   "outputs": [
    {
     "name": "stdout",
     "output_type": "stream",
     "text": [
      "no vvv catalog\n"
     ]
    }
   ],
   "source": [
    "table3, catalog3, header3 = pixel_stars(11.852500833333332*u.deg, 0.05677*u.deg, 46.551*u.arcsec, 47.275*u.arcsec)"
   ]
  },
  {
   "cell_type": "code",
   "execution_count": 7,
   "metadata": {},
   "outputs": [],
   "source": [
    "table4, cat4, catalog4, header4 = pixel_stars(0*u.deg, 0*u.deg, 51*u.arcsec, 51*u.arcsec)"
   ]
  },
  {
   "cell_type": "code",
   "execution_count": 8,
   "metadata": {},
   "outputs": [
    {
     "data": {
      "text/plain": [
       "(16, 14)"
      ]
     },
     "execution_count": 8,
     "metadata": {},
     "output_type": "execute_result"
    }
   ],
   "source": [
    "#location: glon=0, glat=0\n",
    "#area = 0.0075deg^2\n",
    "result_6_to_7_m = closest_model('center6_7_m.dat')\n",
    "result_6_to_7_v = closest_model('center6_7_v.dat', VVV=True)\n",
    "len(result_6_to_7_m), len(result_6_to_7_v)"
   ]
  },
  {
   "cell_type": "code",
   "execution_count": 9,
   "metadata": {},
   "outputs": [
    {
     "data": {
      "text/plain": [
       "(155, 186)"
      ]
     },
     "execution_count": 9,
     "metadata": {},
     "output_type": "execute_result"
    }
   ],
   "source": [
    "#location: glon=0, glat=0\n",
    "#area = 0.0075deg^2\n",
    "result_7_to_8_m = closest_model('center6_8_m.dat', limit=7)\n",
    "result_7_to_8_v = closest_model('center6_8_v.dat', limit=7, VVV=True)\n",
    "len(result_7_to_8_m), len(result_7_to_8_v)"
   ]
  },
  {
   "cell_type": "code",
   "execution_count": 10,
   "metadata": {},
   "outputs": [
    {
     "data": {
      "text/plain": [
       "(29, 25)"
      ]
     },
     "execution_count": 10,
     "metadata": {},
     "output_type": "execute_result"
    }
   ],
   "source": [
    "#location: glon=0, glat=0\n",
    "#area = 0.0005deg^2\n",
    "result_8_to_9_m = closest_model('center6_9_m.dat', limit=8)\n",
    "result_8_to_9_v = closest_model('center6_9_v.dat', limit=8, VVV=True)\n",
    "len(result_8_to_9_m), len(result_8_to_9_v)"
   ]
  },
  {
   "cell_type": "code",
   "execution_count": 11,
   "metadata": {},
   "outputs": [
    {
     "data": {
      "text/plain": [
       "(44, 54)"
      ]
     },
     "execution_count": 11,
     "metadata": {},
     "output_type": "execute_result"
    }
   ],
   "source": [
    "#location: glon=0, glat=0\n",
    "#area = 0.0005deg^2\n",
    "result_9_to_10_m = closest_model('center6_10_m.dat', limit=9)\n",
    "result_9_to_10_v = closest_model('center6_10_v.dat', limit=9, VVV=True)\n",
    "len(result_9_to_10_m), len(result_9_to_10_v)"
   ]
  },
  {
   "cell_type": "code",
   "execution_count": 12,
   "metadata": {},
   "outputs": [
    {
     "data": {
      "text/plain": [
       "(74, 87)"
      ]
     },
     "execution_count": 12,
     "metadata": {},
     "output_type": "execute_result"
    }
   ],
   "source": [
    "#location: glon=0, glat=0\n",
    "#area = 0.0005deg^2\n",
    "result_10_to_11_m = closest_model('center6_11_m.dat', limit=10)\n",
    "result_10_to_11_v = closest_model('center6_11_v.dat', limit=10, VVV=True)\n",
    "len(result_10_to_11_m), len(result_10_to_11_v)"
   ]
  },
  {
   "cell_type": "code",
   "execution_count": 13,
   "metadata": {},
   "outputs": [
    {
     "data": {
      "text/plain": [
       "(156, 155)"
      ]
     },
     "execution_count": 13,
     "metadata": {},
     "output_type": "execute_result"
    }
   ],
   "source": [
    "#location: glon=0, glat=0\n",
    "#area = 0.0005deg^2\n",
    "result_11_to_12_m = closest_model('center6_12_m.dat', limit=11)\n",
    "result_11_to_12_v = closest_model('center6_12_v.dat', limit=11, VVV=True)\n",
    "len(result_11_to_12_m), len(result_11_to_12_v)"
   ]
  },
  {
   "cell_type": "code",
   "execution_count": 14,
   "metadata": {},
   "outputs": [
    {
     "data": {
      "text/plain": [
       "(709, 673)"
      ]
     },
     "execution_count": 14,
     "metadata": {},
     "output_type": "execute_result"
    }
   ],
   "source": [
    "#location: glon=0, glat=0\n",
    "#area = 0.0005deg^2\n",
    "result_12_to_13_m = closest_model('center6_13_m.dat', limit=12)\n",
    "result_12_to_13_v = closest_model('center6_13_v.dat', limit=12, VVV=True)\n",
    "len(result_12_to_13_m), len(result_12_to_13_v)"
   ]
  },
  {
   "cell_type": "code",
   "execution_count": 15,
   "metadata": {},
   "outputs": [
    {
     "data": {
      "text/plain": [
       "(119, 122)"
      ]
     },
     "execution_count": 15,
     "metadata": {},
     "output_type": "execute_result"
    }
   ],
   "source": [
    "#location: glon=0, glat=0\n",
    "#area = 0.00005deg^2\n",
    "result_13_to_14_m = closest_model('center6_14_m.dat', limit=13)\n",
    "result_13_to_14_v = closest_model('center6_14_v.dat', limit=13, VVV=True)\n",
    "len(result_13_to_14_m), len(result_13_to_14_v)"
   ]
  },
  {
   "cell_type": "code",
   "execution_count": 16,
   "metadata": {},
   "outputs": [
    {
     "data": {
      "text/plain": [
       "(112, 86)"
      ]
     },
     "execution_count": 16,
     "metadata": {},
     "output_type": "execute_result"
    }
   ],
   "source": [
    "#location: glon=0, glat=0\n",
    "#area = 0.00005deg^2\n",
    "result_14_to_15_m = closest_model('center6_15_m.dat', limit=14)\n",
    "result_14_to_15_v = closest_model('center6_15_v.dat', limit=14, VVV=True)\n",
    "len(result_14_to_15_m), len(result_14_to_15_v)"
   ]
  },
  {
   "cell_type": "code",
   "execution_count": 17,
   "metadata": {},
   "outputs": [
    {
     "data": {
      "text/plain": [
       "(207, 200)"
      ]
     },
     "execution_count": 17,
     "metadata": {},
     "output_type": "execute_result"
    }
   ],
   "source": [
    "#location: glon=0, glat=0\n",
    "#area = 0.00005deg^2\n",
    "result_15_to_16_m = closest_model('center6_16_m.dat', limit=15)\n",
    "result_15_to_16_v = closest_model('center6_16_v.dat', limit=15, VVV=True)\n",
    "len(result_15_to_16_m), len(result_15_to_16_v)"
   ]
  },
  {
   "cell_type": "code",
   "execution_count": 18,
   "metadata": {},
   "outputs": [
    {
     "data": {
      "text/plain": [
       "(977, 1002)"
      ]
     },
     "execution_count": 18,
     "metadata": {},
     "output_type": "execute_result"
    }
   ],
   "source": [
    "#location: glon=0, glat=0\n",
    "#area = 0.00005deg^2\n",
    "result_16_to_17_m = closest_model('center6_17_m.dat', limit=16)\n",
    "result_16_to_17_v = closest_model('center6_17_v.dat', limit=16, VVV=True)\n",
    "len(result_16_to_17_m), len(result_16_to_17_v)"
   ]
  },
  {
   "cell_type": "code",
   "execution_count": 19,
   "metadata": {},
   "outputs": [
    {
     "data": {
      "text/plain": [
       "(371, 334)"
      ]
     },
     "execution_count": 19,
     "metadata": {},
     "output_type": "execute_result"
    }
   ],
   "source": [
    "#location: glon=0, glat=0\n",
    "#area = 0.000005deg^2\n",
    "result_17_to_18_m = closest_model('center6_18_m.dat', limit=17)\n",
    "result_17_to_18_v = closest_model('center6_18_v.dat', limit=17, VVV=True)\n",
    "len(result_17_to_18_m), len(result_17_to_18_v)"
   ]
  },
  {
   "cell_type": "code",
   "execution_count": 20,
   "metadata": {},
   "outputs": [],
   "source": [
    "data_dict_m = {}\n",
    "data_dict_m['K6-7'] = result_6_to_7_m['fn model']\n",
    "data_dict_m['K7-8'] = result_7_to_8_m['fn model']\n",
    "data_dict_m['K8-9'] = result_8_to_9_m['fn model']\n",
    "data_dict_m['K9-10'] = result_9_to_10_m['fn model']\n",
    "data_dict_m['K10-11'] = result_10_to_11_m['fn model']\n",
    "data_dict_m['K11-12'] = result_11_to_12_m['fn model']\n",
    "data_dict_m['K12-13'] = result_12_to_13_m['fn model']\n",
    "data_dict_m['K13-14'] = result_13_to_14_m['fn model']\n",
    "data_dict_m['K14-15'] = result_14_to_15_m['fn model']\n",
    "data_dict_m['K15-16'] = result_15_to_16_m['fn model']\n",
    "data_dict_m['K16-17'] = result_16_to_17_m['fn model']\n",
    "data_dict_m['K17-18'] = result_17_to_18_m['fn model']"
   ]
  },
  {
   "cell_type": "code",
   "execution_count": 21,
   "metadata": {},
   "outputs": [
    {
     "data": {
      "image/png": "[encoded data removed]",
      "text/plain": [
       "<Figure size 432x288 with 1 Axes>"
      ]
     },
     "metadata": {
      "needs_background": "light"
     },
     "output_type": "display_data"
    }
   ],
   "source": [
    "make_sed_plot(data_dict_m)"
   ]
  },
  {
   "cell_type": "code",
   "execution_count": null,
   "metadata": {},
   "outputs": [],
   "source": []
  }
 ],
 "metadata": {
  "kernelspec": {
   "display_name": "Python 3",
   "language": "python",
   "name": "python3"
  },
  "language_info": {
   "codemirror_mode": {
    "name": "ipython",
    "version": 3
   },
   "file_extension": ".py",
   "mimetype": "text/x-python",
   "name": "python",
   "nbconvert_exporter": "python",
   "pygments_lexer": "ipython3",
   "version": "3.7.4"
  }
 },
 "nbformat": 4,
 "nbformat_minor": 2
}
