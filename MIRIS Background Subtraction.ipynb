{
 "cells": [
  {
   "cell_type": "code",
   "execution_count": 1,
   "metadata": {},
   "outputs": [],
   "source": [
    "import numpy as np\n",
    "from astropy import units as u\n",
    "from astropy import constants as c\n",
    "from astroquery.vizier import Vizier\n",
    "from astropy.coordinates import SkyCoord\n",
    "from astropy.table import Table\n",
    "from astropy.io import fits\n",
    "import matplotlib.pyplot as plt\n",
    "import matplotlib.image as mpimg\n",
    "#plt.style.context('seaborn-talk')\n",
    "plt.style.use('dark_background')"
   ]
  },
  {
   "cell_type": "code",
   "execution_count": 2,
   "metadata": {},
   "outputs": [
    {
     "name": "stderr",
     "output_type": "stream",
     "text": [
      "divide by zero encountered in true_divide\n"
     ]
    }
   ],
   "source": [
    "from MIRIS_flux_calculator import flux_pa, flux_paacl, filter_pa, flux_paach"
   ]
  },
  {
   "cell_type": "code",
   "execution_count": 5,
   "metadata": {},
   "outputs": [
    {
     "name": "stderr",
     "output_type": "stream",
     "text": [
      "flux_adjusted.dat already exists. Automatically overwriting ASCII files is deprecated. Use the argument 'overwrite=True' in the future.\n"
     ]
    }
   ],
   "source": [
    "tbl = Table([flux_pa, flux_paacl, flux_paach], names=('flux_pa', 'flux_paacl', 'flux_paach'))\n",
    "tbl.write('flux_adjusted.dat', format='ascii')"
   ]
  },
  {
   "cell_type": "code",
   "execution_count": 4,
   "metadata": {},
   "outputs": [
    {
     "data": {
      "text/plain": [
       "{'PA flux': [<Quantity 395.01376239 Jy>,\n",
       "  <Quantity 259.8190798 Jy>,\n",
       "  <Quantity 280.78876155 Jy>,\n",
       "  <Quantity 365.6945208 Jy>,\n",
       "  <Quantity 407.78716364 Jy>,\n",
       "  <Quantity 466.22075427 Jy>,\n",
       "  <Quantity 503.68233231 Jy>,\n",
       "  <Quantity 524.67836668 Jy>,\n",
       "  <Quantity 512.7009116 Jy>,\n",
       "  <Quantity 545.41403691 Jy>,\n",
       "  <Quantity 631.83492715 Jy>,\n",
       "  <Quantity 648.16364378 Jy>],\n",
       " 'Left flux': [<Quantity 315.01380505 Jy>,\n",
       "  <Quantity 206.57205206 Jy>,\n",
       "  <Quantity 227.83824775 Jy>,\n",
       "  <Quantity 300.48010409 Jy>,\n",
       "  <Quantity 336.65018266 Jy>,\n",
       "  <Quantity 386.17205993 Jy>,\n",
       "  <Quantity 417.88221296 Jy>,\n",
       "  <Quantity 435.5818795 Jy>,\n",
       "  <Quantity 425.63424638 Jy>,\n",
       "  <Quantity 453.19827456 Jy>,\n",
       "  <Quantity 525.88373065 Jy>,\n",
       "  <Quantity 539.5831664 Jy>],\n",
       " 'Right flux': [<Quantity 919.69923817 Jy>,\n",
       "  <Quantity 605.55624793 Jy>,\n",
       "  <Quantity 649.83872891 Jy>,\n",
       "  <Quantity 842.59866351 Jy>,\n",
       "  <Quantity 938.00544281 Jy>,\n",
       "  <Quantity 1071.13932292 Jy>,\n",
       "  <Quantity 1156.52926986 Jy>,\n",
       "  <Quantity 1204.45972139 Jy>,\n",
       "  <Quantity 1176.96841908 Jy>,\n",
       "  <Quantity 1251.66034507 Jy>,\n",
       "  <Quantity 1449.1109362 Jy>,\n",
       "  <Quantity 1486.45255438 Jy>]}"
      ]
     },
     "execution_count": 4,
     "metadata": {},
     "output_type": "execute_result"
    }
   ],
   "source": [
    "dict_flux = {'PA flux': flux_pa, \n",
    "             'Left flux': flux_paacl, \n",
    "             'Right flux': flux_paach}\n",
    "dict_flux"
   ]
  },
  {
   "cell_type": "code",
   "execution_count": 6,
   "metadata": {},
   "outputs": [
    {
     "data": {
      "text/html": [
       "<i>Table length=12</i>\n",
       "<table id=\"table2252832440392\" class=\"table-striped table-bordered table-condensed\">\n",
       "<thead><tr><th>flux_pa</th><th>flux_paacl</th><th>flux_paach</th></tr></thead>\n",
       "<thead><tr><th>object</th><th>object</th><th>object</th></tr></thead>\n",
       "<tr><td>395.0137623927137 Jy</td><td>315.0138050544058 Jy</td><td>919.6992381684275 Jy</td></tr>\n",
       "<tr><td>259.81907979637214 Jy</td><td>206.57205206272954 Jy</td><td>605.5562479261793 Jy</td></tr>\n",
       "<tr><td>280.78876154847615 Jy</td><td>227.83824775328856 Jy</td><td>649.8387289053479 Jy</td></tr>\n",
       "<tr><td>365.6945207972096 Jy</td><td>300.480104090005 Jy</td><td>842.5986635105132 Jy</td></tr>\n",
       "<tr><td>407.78716364006067 Jy</td><td>336.65018266153146 Jy</td><td>938.0054428126473 Jy</td></tr>\n",
       "<tr><td>466.2207542687398 Jy</td><td>386.17205993230965 Jy</td><td>1071.1393229230016 Jy</td></tr>\n",
       "<tr><td>503.68233230713537 Jy</td><td>417.88221296336064 Jy</td><td>1156.5292698627347 Jy</td></tr>\n",
       "<tr><td>524.6783666771506 Jy</td><td>435.5818795037107 Jy</td><td>1204.459721387916 Jy</td></tr>\n",
       "<tr><td>512.7009115967452 Jy</td><td>425.6342463784271 Jy</td><td>1176.9684190761166 Jy</td></tr>\n",
       "<tr><td>545.4140369059714 Jy</td><td>453.1982745594156 Jy</td><td>1251.6603450715393 Jy</td></tr>\n",
       "<tr><td>631.8349271453716 Jy</td><td>525.883730645226 Jy</td><td>1449.1109362040856 Jy</td></tr>\n",
       "<tr><td>648.1636437767963 Jy</td><td>539.5831663996946 Jy</td><td>1486.4525543846414 Jy</td></tr>\n",
       "</table>"
      ],
      "text/plain": [
       "<Table length=12>\n",
       "       flux_pa              flux_paacl            flux_paach     \n",
       "        object                object                object       \n",
       "--------------------- --------------------- ---------------------\n",
       " 395.0137623927137 Jy  315.0138050544058 Jy  919.6992381684275 Jy\n",
       "259.81907979637214 Jy 206.57205206272954 Jy  605.5562479261793 Jy\n",
       "280.78876154847615 Jy 227.83824775328856 Jy  649.8387289053479 Jy\n",
       " 365.6945207972096 Jy   300.480104090005 Jy  842.5986635105132 Jy\n",
       "407.78716364006067 Jy 336.65018266153146 Jy  938.0054428126473 Jy\n",
       " 466.2207542687398 Jy 386.17205993230965 Jy 1071.1393229230016 Jy\n",
       "503.68233230713537 Jy 417.88221296336064 Jy 1156.5292698627347 Jy\n",
       " 524.6783666771506 Jy  435.5818795037107 Jy  1204.459721387916 Jy\n",
       " 512.7009115967452 Jy  425.6342463784271 Jy 1176.9684190761166 Jy\n",
       " 545.4140369059714 Jy  453.1982745594156 Jy 1251.6603450715393 Jy\n",
       " 631.8349271453716 Jy   525.883730645226 Jy 1449.1109362040856 Jy\n",
       " 648.1636437767963 Jy  539.5831663996946 Jy 1486.4525543846414 Jy"
      ]
     },
     "execution_count": 6,
     "metadata": {},
     "output_type": "execute_result"
    }
   ],
   "source": [
    "tbl"
   ]
  },
  {
   "cell_type": "code",
   "execution_count": null,
   "metadata": {},
   "outputs": [],
   "source": []
  }
 ],
 "metadata": {
  "kernelspec": {
   "display_name": "Python 3",
   "language": "python",
   "name": "python3"
  },
  "language_info": {
   "codemirror_mode": {
    "name": "ipython",
    "version": 3
   },
   "file_extension": ".py",
   "mimetype": "text/x-python",
   "name": "python",
   "nbconvert_exporter": "python",
   "pygments_lexer": "ipython3",
   "version": "3.7.4"
  }
 },
 "nbformat": 4,
 "nbformat_minor": 2
}
