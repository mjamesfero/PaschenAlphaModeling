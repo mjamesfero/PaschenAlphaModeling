{
 "cells": [
  {
   "cell_type": "code",
   "execution_count": 1,
   "metadata": {},
   "outputs": [],
   "source": [
    "import numpy as np\n",
    "from astropy.table import Table"
   ]
  },
  {
   "cell_type": "code",
   "execution_count": 2,
   "metadata": {},
   "outputs": [
    {
     "name": "stdout",
     "output_type": "stream",
     "text": [
      "gzip was not found on your system! You should solve this issue for astroquery.eso to be at its best!\n",
      "On POSIX system: make sure gzip is installed and in your path!On Windows: same for 7-zip (http://www.7-zip.org)!\n"
     ]
    }
   ],
   "source": [
    "%run functions.py"
   ]
  },
  {
   "cell_type": "markdown",
   "metadata": {},
   "source": [
    "I'm going to run this first with data from the 2MASS set and then with data from the VVV set. Besides that, the parameters are the same.\n",
    "$$l: 0.1$$\n",
    "$$b: 2.5$$\n",
    "$$FOV: 0.45852444445deg^2$$\n",
    "limiting mag in 3rd filter: $$18$$"
   ]
  },
  {
   "cell_type": "code",
   "execution_count": 3,
   "metadata": {},
   "outputs": [],
   "source": [
    "data_stars = np.loadtxt('stars0805202mass.dat', unpack=True)"
   ]
  },
  {
   "cell_type": "code",
   "execution_count": 4,
   "metadata": {},
   "outputs": [],
   "source": [
    "k_mag = []\n",
    "h_mag = []\n",
    "for ii in range(len(data_stars[0])):\n",
    "    if data_stars[13,ii] >= 16:\n",
    "        k_mag.append(data_stars[13,ii])\n",
    "        h_mag.append(data_stars[12,ii])\n",
    "background_stars = Table({'hmag': h_mag,\n",
    "                          'kmag': k_mag,\n",
    "                         })"
   ]
  },
  {
   "cell_type": "code",
   "execution_count": 5,
   "metadata": {},
   "outputs": [
    {
     "data": {
      "text/latex": [
       "$4.0363643 \\times 10^{-5} \\; \\mathrm{Jy}$"
      ],
      "text/plain": [
       "<Quantity 4.0363643e-05 Jy>"
      ]
     },
     "execution_count": 5,
     "metadata": {},
     "output_type": "execute_result"
    }
   ],
   "source": [
    "flux = flux_function(hmag=background_stars['hmag'], kmag=background_stars['kmag'])\n",
    "flux_sum = np.sum(flux)\n",
    "flux_per_pixel = flux_sum / (2048*2048) #this was the number of pixs i assumed when generating the stars\n",
    "flux_per_pixel"
   ]
  },
  {
   "cell_type": "code",
   "execution_count": 6,
   "metadata": {},
   "outputs": [],
   "source": [
    "data_stars_vvv = np.loadtxt('stars080520vvv.dat', unpack=True)"
   ]
  },
  {
   "cell_type": "code",
   "execution_count": 7,
   "metadata": {},
   "outputs": [],
   "source": [
    "k_mag = []\n",
    "h_mag = []\n",
    "for ii in range(len(data_stars_vvv[0])):\n",
    "    if data_stars_vvv[14,ii] >= 16:\n",
    "        k_mag.append(data_stars_vvv[15,ii])\n",
    "        h_mag.append(data_stars_vvv[14,ii])\n",
    "background_stars_vvv = Table({'hmag': h_mag,\n",
    "                          'kmag': k_mag,\n",
    "                         })"
   ]
  },
  {
   "cell_type": "code",
   "execution_count": 8,
   "metadata": {},
   "outputs": [
    {
     "data": {
      "text/latex": [
       "$3.2069253 \\times 10^{-5} \\; \\mathrm{Jy}$"
      ],
      "text/plain": [
       "<Quantity 3.20692531e-05 Jy>"
      ]
     },
     "execution_count": 8,
     "metadata": {},
     "output_type": "execute_result"
    }
   ],
   "source": [
    "flux_vvv = flux_function(hmag=background_stars_vvv['hmag'], kmag=background_stars_vvv['kmag'], VVV=True)\n",
    "flux_sum_vvv = np.sum(flux_vvv)\n",
    "flux_per_pixel_vvv = flux_sum_vvv / (2048*2048) #this was the number of pixs i assumed when generating the stars\n",
    "flux_per_pixel_vvv"
   ]
  },
  {
   "cell_type": "markdown",
   "metadata": {},
   "source": [
    "this is me running the numbers agin but over a 1000 by 1000 pixel area and seeing how much it changes."
   ]
  },
  {
   "cell_type": "code",
   "execution_count": 9,
   "metadata": {},
   "outputs": [],
   "source": [
    "data_stars_1000 = np.loadtxt('stars0806202mass.dat', unpack=True)"
   ]
  },
  {
   "cell_type": "code",
   "execution_count": 10,
   "metadata": {},
   "outputs": [],
   "source": [
    "k_mag = []\n",
    "h_mag = []\n",
    "for ii in range(len(data_stars_1000[0])):\n",
    "    if data_stars_1000[13,ii] >= 16:\n",
    "        k_mag.append(data_stars_1000[13,ii])\n",
    "        h_mag.append(data_stars_1000[12,ii])\n",
    "background_stars_1000 = Table({'hmag': h_mag,\n",
    "                          'kmag': k_mag,\n",
    "                         })"
   ]
  },
  {
   "cell_type": "code",
   "execution_count": 11,
   "metadata": {},
   "outputs": [
    {
     "data": {
      "text/latex": [
       "$0.00016820341 \\; \\mathrm{Jy}$"
      ],
      "text/plain": [
       "<Quantity 0.0001682 Jy>"
      ]
     },
     "execution_count": 11,
     "metadata": {},
     "output_type": "execute_result"
    }
   ],
   "source": [
    "flux_1000 = flux_function(hmag=background_stars_1000['hmag'], kmag=background_stars_1000['kmag'])\n",
    "flux_sum_1000 = np.sum(flux_1000)\n",
    "flux_per_pixel_1000 = flux_sum_1000 / (1000*1000) #this was the number of pixs i assumed when generating the stars\n",
    "flux_per_pixel_1000"
   ]
  },
  {
   "cell_type": "code",
   "execution_count": 12,
   "metadata": {},
   "outputs": [],
   "source": [
    "data_stars_vvv_1000 = np.loadtxt('stars080620vvv.dat', unpack=True)"
   ]
  },
  {
   "cell_type": "code",
   "execution_count": 13,
   "metadata": {},
   "outputs": [],
   "source": [
    "k_mag = []\n",
    "h_mag = []\n",
    "for ii in range(len(data_stars_vvv_1000[0])):\n",
    "    if data_stars_vvv_1000[14,ii] >= 16:\n",
    "        k_mag.append(data_stars_vvv_1000[15,ii])\n",
    "        h_mag.append(data_stars_vvv_1000[14,ii])\n",
    "background_stars_vvv_1000 = Table({'hmag': h_mag,\n",
    "                          'kmag': k_mag,\n",
    "                         })"
   ]
  },
  {
   "cell_type": "code",
   "execution_count": 14,
   "metadata": {},
   "outputs": [
    {
     "data": {
      "text/latex": [
       "$0.0001321188 \\; \\mathrm{Jy}$"
      ],
      "text/plain": [
       "<Quantity 0.00013212 Jy>"
      ]
     },
     "execution_count": 14,
     "metadata": {},
     "output_type": "execute_result"
    }
   ],
   "source": [
    "flux_vvv_1000 = flux_function(hmag=background_stars_vvv_1000['hmag'], kmag=background_stars_vvv_1000['kmag'], VVV=True)\n",
    "flux_sum_vvv_1000 = np.sum(flux_vvv_1000)\n",
    "flux_per_pixel_vvv_1000 = flux_sum_vvv_1000 / (1000*1000) #this was the number of pixs i assumed when generating the stars\n",
    "flux_per_pixel_vvv_1000"
   ]
  },
  {
   "cell_type": "markdown",
   "metadata": {},
   "source": [
    "a review of the data from TRILEGAL showed a similar number of stars generated for the 1000 pixel region as the 2048 pixel region, suggesting it was too big for TRILEGAL to finish generating its stars. both data sets were allowed to run for 10 minutes. I will try 500 pixels next and see how it affects the number of generated stars and the flux per pixel."
   ]
  },
  {
   "cell_type": "code",
   "execution_count": 15,
   "metadata": {},
   "outputs": [],
   "source": [
    "data_stars_500 = np.loadtxt('stars0806202mass2.dat', unpack=True)"
   ]
  },
  {
   "cell_type": "code",
   "execution_count": 16,
   "metadata": {},
   "outputs": [],
   "source": [
    "k_mag = []\n",
    "h_mag = []\n",
    "for ii in range(len(data_stars_500[0])):\n",
    "    if data_stars_500[13,ii] >= 16:\n",
    "        k_mag.append(data_stars_500[13,ii])\n",
    "        h_mag.append(data_stars_500[12,ii])\n",
    "background_stars_500 = Table({'hmag': h_mag,\n",
    "                          'kmag': k_mag,\n",
    "                         })"
   ]
  },
  {
   "cell_type": "code",
   "execution_count": 17,
   "metadata": {},
   "outputs": [
    {
     "data": {
      "text/latex": [
       "$0.00043905258 \\; \\mathrm{Jy}$"
      ],
      "text/plain": [
       "<Quantity 0.00043905 Jy>"
      ]
     },
     "execution_count": 17,
     "metadata": {},
     "output_type": "execute_result"
    }
   ],
   "source": [
    "flux_500 = flux_function(hmag=background_stars_500['hmag'], kmag=background_stars_500['kmag'])\n",
    "flux_sum_500 = np.sum(flux_500)\n",
    "flux_per_pixel_500 = flux_sum_500 / (500*500) #this was the number of pixs i assumed when generating the stars\n",
    "flux_per_pixel_500"
   ]
  },
  {
   "cell_type": "code",
   "execution_count": 18,
   "metadata": {},
   "outputs": [],
   "source": [
    "data_stars_vvv_500 = np.loadtxt('stars080620vvv2.dat', unpack=True)"
   ]
  },
  {
   "cell_type": "code",
   "execution_count": 19,
   "metadata": {},
   "outputs": [],
   "source": [
    "k_mag = []\n",
    "h_mag = []\n",
    "for ii in range(len(data_stars_vvv_500[0])):\n",
    "    if data_stars_vvv_500[14,ii] >= 16:\n",
    "        k_mag.append(data_stars_vvv_500[15,ii])\n",
    "        h_mag.append(data_stars_vvv_500[14,ii])\n",
    "background_stars_vvv_500 = Table({'hmag': h_mag,\n",
    "                          'kmag': k_mag,\n",
    "                         })"
   ]
  },
  {
   "cell_type": "code",
   "execution_count": 20,
   "metadata": {},
   "outputs": [
    {
     "data": {
      "text/latex": [
       "$0.00035086768 \\; \\mathrm{Jy}$"
      ],
      "text/plain": [
       "<Quantity 0.00035087 Jy>"
      ]
     },
     "execution_count": 20,
     "metadata": {},
     "output_type": "execute_result"
    }
   ],
   "source": [
    "flux_vvv_500 = flux_function(hmag=background_stars_vvv_500['hmag'], kmag=background_stars_vvv_500['kmag'], VVV=True)\n",
    "flux_sum_vvv_500 = np.sum(flux_vvv_500)\n",
    "flux_per_pixel_vvv_500 = flux_sum_vvv_500 / (500*500) #this was the number of pixs i assumed when generating the stars\n",
    "flux_per_pixel_vvv_500"
   ]
  },
  {
   "cell_type": "markdown",
   "metadata": {},
   "source": [
    "The data were generated succesfully this time. It took 12 minutes for it to all be generated. I will try again with 100 pixels and compare the results."
   ]
  },
  {
   "cell_type": "code",
   "execution_count": 21,
   "metadata": {},
   "outputs": [],
   "source": [
    "data_stars_100 = np.loadtxt('stars0806202mass3.dat', unpack=True)"
   ]
  },
  {
   "cell_type": "code",
   "execution_count": 22,
   "metadata": {},
   "outputs": [],
   "source": [
    "k_mag = []\n",
    "h_mag = []\n",
    "for ii in range(len(data_stars_100[0])):\n",
    "    if data_stars_100[13,ii] >= 16:\n",
    "        k_mag.append(data_stars_100[13,ii])\n",
    "        h_mag.append(data_stars_100[12,ii])\n",
    "background_stars_100 = Table({'hmag': h_mag,\n",
    "                          'kmag': k_mag,\n",
    "                         })"
   ]
  },
  {
   "cell_type": "code",
   "execution_count": 23,
   "metadata": {},
   "outputs": [
    {
     "data": {
      "text/latex": [
       "$0.0021903694 \\; \\mathrm{Jy}$"
      ],
      "text/plain": [
       "<Quantity 0.00219037 Jy>"
      ]
     },
     "execution_count": 23,
     "metadata": {},
     "output_type": "execute_result"
    }
   ],
   "source": [
    "flux_100 = flux_function(hmag=background_stars_100['hmag'], kmag=background_stars_100['kmag'])\n",
    "flux_sum_100 = np.sum(flux_100)\n",
    "flux_per_pixel_100 = flux_sum_100 / (100*100) #this was the number of pixs i assumed when generating the stars\n",
    "flux_per_pixel_100"
   ]
  },
  {
   "cell_type": "code",
   "execution_count": 24,
   "metadata": {},
   "outputs": [],
   "source": [
    "data_stars_vvv_100 = np.loadtxt('stars080620vvv3.dat', unpack=True)"
   ]
  },
  {
   "cell_type": "code",
   "execution_count": 25,
   "metadata": {},
   "outputs": [],
   "source": [
    "k_mag = []\n",
    "h_mag = []\n",
    "for ii in range(len(data_stars_vvv_100[0])):\n",
    "    if data_stars_vvv_100[14,ii] >= 16:\n",
    "        k_mag.append(data_stars_vvv_100[15,ii])\n",
    "        h_mag.append(data_stars_vvv_100[14,ii])\n",
    "background_stars_vvv_100 = Table({'hmag': h_mag,\n",
    "                          'kmag': k_mag,\n",
    "                         })"
   ]
  },
  {
   "cell_type": "code",
   "execution_count": 26,
   "metadata": {},
   "outputs": [
    {
     "data": {
      "text/latex": [
       "$0.0017488803 \\; \\mathrm{Jy}$"
      ],
      "text/plain": [
       "<Quantity 0.00174888 Jy>"
      ]
     },
     "execution_count": 26,
     "metadata": {},
     "output_type": "execute_result"
    }
   ],
   "source": [
    "flux_vvv_100 = flux_function(hmag=background_stars_vvv_100['hmag'], kmag=background_stars_vvv_100['kmag'], VVV=True)\n",
    "flux_sum_vvv_100 = np.sum(flux_vvv_100)\n",
    "flux_per_pixel_vvv_100 = flux_sum_vvv_100 / (100*100) #this was the number of pixs i assumed when generating the stars\n",
    "flux_per_pixel_vvv_100"
   ]
  },
  {
   "cell_type": "markdown",
   "metadata": {},
   "source": [
    "Now I'm going to try with an area of 1 pixel or 0.806arcsec^2."
   ]
  },
  {
   "cell_type": "code",
   "execution_count": 27,
   "metadata": {},
   "outputs": [],
   "source": [
    "data_stars_1 = np.loadtxt('stars0806202mass4.dat', unpack=True)"
   ]
  },
  {
   "cell_type": "code",
   "execution_count": 3,
   "metadata": {},
   "outputs": [
    {
     "ename": "NameError",
     "evalue": "name 'data_stars_1' is not defined",
     "output_type": "error",
     "traceback": [
      "\u001b[1;31m---------------------------------------------------------------------------\u001b[0m",
      "\u001b[1;31mNameError\u001b[0m                                 Traceback (most recent call last)",
      "\u001b[1;32m<ipython-input-3-e74d2cc3fc14>\u001b[0m in \u001b[0;36m<module>\u001b[1;34m\u001b[0m\n\u001b[0;32m      1\u001b[0m \u001b[0mk_mag\u001b[0m \u001b[1;33m=\u001b[0m \u001b[1;33m[\u001b[0m\u001b[1;33m]\u001b[0m\u001b[1;33m\u001b[0m\u001b[1;33m\u001b[0m\u001b[0m\n\u001b[0;32m      2\u001b[0m \u001b[0mh_mag\u001b[0m \u001b[1;33m=\u001b[0m \u001b[1;33m[\u001b[0m\u001b[1;33m]\u001b[0m\u001b[1;33m\u001b[0m\u001b[1;33m\u001b[0m\u001b[0m\n\u001b[1;32m----> 3\u001b[1;33m \u001b[1;32mfor\u001b[0m \u001b[0mii\u001b[0m \u001b[1;32min\u001b[0m \u001b[0mrange\u001b[0m\u001b[1;33m(\u001b[0m\u001b[0mlen\u001b[0m\u001b[1;33m(\u001b[0m\u001b[0mdata_stars_1\u001b[0m\u001b[1;33m[\u001b[0m\u001b[1;36m0\u001b[0m\u001b[1;33m]\u001b[0m\u001b[1;33m)\u001b[0m\u001b[1;33m)\u001b[0m\u001b[1;33m:\u001b[0m\u001b[1;33m\u001b[0m\u001b[1;33m\u001b[0m\u001b[0m\n\u001b[0m\u001b[0;32m      4\u001b[0m     \u001b[1;32mif\u001b[0m \u001b[0mdata_stars_1\u001b[0m\u001b[1;33m[\u001b[0m\u001b[1;36m13\u001b[0m\u001b[1;33m,\u001b[0m\u001b[0mii\u001b[0m\u001b[1;33m]\u001b[0m \u001b[1;33m>=\u001b[0m \u001b[1;36m16\u001b[0m\u001b[1;33m:\u001b[0m\u001b[1;33m\u001b[0m\u001b[1;33m\u001b[0m\u001b[0m\n\u001b[0;32m      5\u001b[0m         \u001b[0mk_mag\u001b[0m\u001b[1;33m.\u001b[0m\u001b[0mappend\u001b[0m\u001b[1;33m(\u001b[0m\u001b[0mdata_stars_1\u001b[0m\u001b[1;33m[\u001b[0m\u001b[1;36m13\u001b[0m\u001b[1;33m,\u001b[0m\u001b[0mii\u001b[0m\u001b[1;33m]\u001b[0m\u001b[1;33m)\u001b[0m\u001b[1;33m\u001b[0m\u001b[1;33m\u001b[0m\u001b[0m\n",
      "\u001b[1;31mNameError\u001b[0m: name 'data_stars_1' is not defined"
     ]
    }
   ],
   "source": [
    "k_mag = []\n",
    "h_mag = []\n",
    "for ii in range(len(data_stars_1[0])):\n",
    "    if data_stars_1[13,ii] >= 16:\n",
    "        k_mag.append(data_stars_1[13,ii])\n",
    "        h_mag.append(data_stars_1[12,ii])\n",
    "background_stars_1 = Table({'hmag': h_mag,\n",
    "                          'kmag': k_mag,\n",
    "                         })"
   ]
  },
  {
   "cell_type": "code",
   "execution_count": 29,
   "metadata": {},
   "outputs": [
    {
     "data": {
      "text/latex": [
       "$0.21759356 \\; \\mathrm{Jy}$"
      ],
      "text/plain": [
       "<Quantity 0.21759356 Jy>"
      ]
     },
     "execution_count": 29,
     "metadata": {},
     "output_type": "execute_result"
    }
   ],
   "source": [
    "flux_1 = flux_function(hmag=background_stars_1['hmag'], kmag=background_stars_1['kmag'])\n",
    "flux_per_pixel_1 = np.sum(flux_1)\n",
    "flux_per_pixel_1"
   ]
  },
  {
   "cell_type": "code",
   "execution_count": 30,
   "metadata": {},
   "outputs": [],
   "source": [
    "data_stars_vvv_1 = np.loadtxt('stars080620vvv4.dat', unpack=True)"
   ]
  },
  {
   "cell_type": "code",
   "execution_count": 31,
   "metadata": {},
   "outputs": [],
   "source": [
    "k_mag = []\n",
    "h_mag = []\n",
    "for ii in range(len(data_stars_vvv_1[0])):\n",
    "    if data_stars_vvv_1[14,ii] >= 16:\n",
    "        k_mag.append(data_stars_vvv_1[15,ii])\n",
    "        h_mag.append(data_stars_vvv_1[14,ii])\n",
    "background_stars_vvv_1 = Table({'hmag': h_mag,\n",
    "                          'kmag': k_mag,\n",
    "                         })"
   ]
  },
  {
   "cell_type": "code",
   "execution_count": 32,
   "metadata": {},
   "outputs": [
    {
     "data": {
      "text/latex": [
       "$0.17529937 \\; \\mathrm{Jy}$"
      ],
      "text/plain": [
       "<Quantity 0.17529937 Jy>"
      ]
     },
     "execution_count": 32,
     "metadata": {},
     "output_type": "execute_result"
    }
   ],
   "source": [
    "flux_vvv_1 = flux_function(hmag=background_stars_vvv_1['hmag'], kmag=background_stars_vvv_1['kmag'], VVV=True)\n",
    "flux_per_pixel_vvv_1 = np.sum(flux_vvv_1)\n",
    "flux_per_pixel_vvv_1"
   ]
  },
  {
   "cell_type": "markdown",
   "metadata": {},
   "source": [
    "I think I must be doing the area to pixel conversions wrong. Let's try again."
   ]
  },
  {
   "cell_type": "code",
   "execution_count": 3,
   "metadata": {},
   "outputs": [],
   "source": [
    "def flux_per_pixel(name, pixel, VVV=False):\n",
    "    data_stars_vvv_1 = np.loadtxt(name, unpack=True)\n",
    "    k_mag = []\n",
    "    h_mag = []\n",
    "    if VVV:\n",
    "        for ii in range(len(data_stars_vvv_1[0])):\n",
    "            if data_stars_vvv_1[14,ii] >= 16:\n",
    "                k_mag.append(data_stars_vvv_1[15,ii])\n",
    "                h_mag.append(data_stars_vvv_1[14,ii])\n",
    "    else: \n",
    "        for ii in range(len(data_stars_vvv_1[0])):\n",
    "            if data_stars_vvv_1[13,ii] >= 16:\n",
    "                k_mag.append(data_stars_vvv_1[13,ii])\n",
    "                h_mag.append(data_stars_vvv_1[12,ii])\n",
    "    background_stars_vvv_1 = Table({'hmag': h_mag,\n",
    "                                    'kmag': k_mag,\n",
    "                         })\n",
    "    flux_vvv_100 = flux_function(hmag=background_stars_vvv_1['hmag'], kmag=background_stars_vvv_1['kmag'], VVV=VVV)\n",
    "    flux_sum_vvv_100 = np.sum(flux_vvv_100)\n",
    "    flux_per_pixel_vvv_100 = flux_sum_vvv_100 / (pixel**2)\n",
    "    return flux_per_pixel_vvv_100"
   ]
  },
  {
   "cell_type": "markdown",
   "metadata": {},
   "source": [
    "Attempting to do a 1 pixel area resulted in no stars for 2MASS and 1 star for VVV. I will try again with 10 pixels."
   ]
  },
  {
   "cell_type": "code",
   "execution_count": 4,
   "metadata": {},
   "outputs": [
    {
     "data": {
      "text/plain": [
       "(<Quantity 7.04096463e-05 Jy>, <Quantity 3.79434537e-05 Jy>)"
      ]
     },
     "execution_count": 4,
     "metadata": {},
     "output_type": "execute_result"
    }
   ],
   "source": [
    "twomass_10_pix = flux_per_pixel('stars0806202mass5.dat', 10)\n",
    "vvv_10_pix = flux_per_pixel('stars080620vvv5.dat', 10, VVV=True)\n",
    "twomass_10_pix, vvv_10_pix"
   ]
  },
  {
   "cell_type": "code",
   "execution_count": 5,
   "metadata": {},
   "outputs": [
    {
     "data": {
      "text/plain": [
       "(<Quantity 4.86310607e-05 Jy>, <Quantity 3.96799973e-05 Jy>)"
      ]
     },
     "execution_count": 5,
     "metadata": {},
     "output_type": "execute_result"
    }
   ],
   "source": [
    "twomass_100_pix = flux_per_pixel('stars0806202mass6.dat', 100)\n",
    "vvv_100_pix = flux_per_pixel('stars080620vvv6.dat', 100, VVV=True)\n",
    "twomass_100_pix, vvv_100_pix"
   ]
  },
  {
   "cell_type": "code",
   "execution_count": 6,
   "metadata": {},
   "outputs": [
    {
     "data": {
      "text/plain": [
       "(<Quantity 4.91987731e-05 Jy>, <Quantity 3.92346042e-05 Jy>)"
      ]
     },
     "execution_count": 6,
     "metadata": {},
     "output_type": "execute_result"
    }
   ],
   "source": [
    "twomass_1000_pix = flux_per_pixel('stars0806202mass7.dat', 1000)\n",
    "vvv_1000_pix = flux_per_pixel('stars080620vvv7.dat', 1000, VVV=True)\n",
    "twomass_1000_pix, vvv_1000_pix"
   ]
  },
  {
   "cell_type": "markdown",
   "metadata": {},
   "source": [
    "2048 pixels seems to be too big for TRILEGAL to run to completion. "
   ]
  },
  {
   "cell_type": "code",
   "execution_count": 7,
   "metadata": {},
   "outputs": [
    {
     "data": {
      "text/plain": [
       "(<Quantity 5.10184876e-05 Jy>, <Quantity 3.8806559e-05 Jy>)"
      ]
     },
     "execution_count": 7,
     "metadata": {},
     "output_type": "execute_result"
    }
   ],
   "source": [
    "twomass_25_pix = flux_per_pixel('stars0807202mass.dat', 25)\n",
    "vvv_25_pix = flux_per_pixel('stars080720vvv.dat', 25, VVV=True)\n",
    "twomass_25_pix, vvv_25_pix"
   ]
  },
  {
   "cell_type": "code",
   "execution_count": 8,
   "metadata": {},
   "outputs": [
    {
     "data": {
      "text/plain": [
       "(<Quantity 4.84025871e-05 Jy>, <Quantity 4.19532053e-05 Jy>)"
      ]
     },
     "execution_count": 8,
     "metadata": {},
     "output_type": "execute_result"
    }
   ],
   "source": [
    "twomass_50_pix = flux_per_pixel('stars0807202mass2.dat', 50)\n",
    "vvv_50_pix = flux_per_pixel('stars080720vvv2.dat', 50, VVV=True)\n",
    "twomass_50_pix, vvv_50_pix"
   ]
  },
  {
   "cell_type": "code",
   "execution_count": 9,
   "metadata": {},
   "outputs": [
    {
     "data": {
      "text/plain": [
       "(<Quantity 4.7649374e-05 Jy>, <Quantity 3.79583737e-05 Jy>)"
      ]
     },
     "execution_count": 9,
     "metadata": {},
     "output_type": "execute_result"
    }
   ],
   "source": [
    "twomass_75_pix = flux_per_pixel('stars0807202mass3.dat', 75)\n",
    "vvv_75_pix = flux_per_pixel('stars080720vvv3.dat', 75, VVV=True)\n",
    "twomass_75_pix, vvv_75_pix"
   ]
  },
  {
   "cell_type": "markdown",
   "metadata": {},
   "source": [
    "This will be in the center of the galatic bulge (l=0 b=0) in 100 and 500 pixels. Everything else is held the same:"
   ]
  },
  {
   "cell_type": "code",
   "execution_count": 10,
   "metadata": {},
   "outputs": [
    {
     "data": {
      "text/plain": [
       "(<Quantity 0.00047306 Jy>, <Quantity 0.00037945 Jy>)"
      ]
     },
     "execution_count": 10,
     "metadata": {},
     "output_type": "execute_result"
    }
   ],
   "source": [
    "twomass_100_pix_c = flux_per_pixel('stars0807202mass4.dat', 100)\n",
    "vvv_100_pix_c = flux_per_pixel('stars080720vvv4.dat', 100, VVV=True)\n",
    "twomass_100_pix_c, vvv_100_pix_c"
   ]
  },
  {
   "cell_type": "code",
   "execution_count": 11,
   "metadata": {},
   "outputs": [
    {
     "data": {
      "text/plain": [
       "(<Quantity 0.00047528 Jy>, <Quantity 0.00037943 Jy>)"
      ]
     },
     "execution_count": 11,
     "metadata": {},
     "output_type": "execute_result"
    }
   ],
   "source": [
    "twomass_500_pix_c = flux_per_pixel('stars0807202mass5.dat', 500)\n",
    "vvv_500_pix_c = flux_per_pixel('stars080720vvv5.dat', 500, VVV=True)\n",
    "twomass_500_pix_c, vvv_500_pix_c"
   ]
  },
  {
   "cell_type": "markdown",
   "metadata": {},
   "source": [
    "Next region: l=0.1 b=-2.5. Pixels are 100 and 500 again."
   ]
  },
  {
   "cell_type": "code",
   "execution_count": 12,
   "metadata": {},
   "outputs": [
    {
     "data": {
      "text/plain": [
       "(<Quantity 6.00392516e-05 Jy>, <Quantity 4.73506085e-05 Jy>)"
      ]
     },
     "execution_count": 12,
     "metadata": {},
     "output_type": "execute_result"
    }
   ],
   "source": [
    "twomass_100_pix_2 = flux_per_pixel('stars0807202mass6.dat', 100)\n",
    "vvv_100_pix_2 = flux_per_pixel('stars080720vvv6.dat', 100, VVV=True)\n",
    "twomass_100_pix_2, vvv_100_pix_2"
   ]
  },
  {
   "cell_type": "code",
   "execution_count": 13,
   "metadata": {},
   "outputs": [
    {
     "data": {
      "text/plain": [
       "(<Quantity 6.01519311e-05 Jy>, <Quantity 4.80737478e-05 Jy>)"
      ]
     },
     "execution_count": 13,
     "metadata": {},
     "output_type": "execute_result"
    }
   ],
   "source": [
    "twomass_500_pix_2 = flux_per_pixel('stars0807202mass7.dat', 500)\n",
    "vvv_500_pix_2 = flux_per_pixel('stars080720vvv7.dat', 500, VVV=True)\n",
    "twomass_500_pix_2, vvv_500_pix_2"
   ]
  },
  {
   "cell_type": "markdown",
   "metadata": {},
   "source": [
    "Region l=0.1 b=180. Same pixels:"
   ]
  },
  {
   "cell_type": "code",
   "execution_count": 14,
   "metadata": {},
   "outputs": [
    {
     "data": {
      "text/plain": [
       "(<Quantity 4.30013323e-07 Jy>, <Quantity 4.33623744e-07 Jy>)"
      ]
     },
     "execution_count": 14,
     "metadata": {},
     "output_type": "execute_result"
    }
   ],
   "source": [
    "twomass_100_pix_3 = flux_per_pixel('stars0807202mass8.dat', 100)\n",
    "vvv_100_pix_3 = flux_per_pixel('stars080720vvv8.dat', 100, VVV=True)\n",
    "twomass_100_pix_3, vvv_100_pix_3"
   ]
  },
  {
   "cell_type": "code",
   "execution_count": 15,
   "metadata": {},
   "outputs": [
    {
     "data": {
      "text/plain": [
       "(<Quantity 4.27228716e-07 Jy>, <Quantity 3.32393463e-07 Jy>)"
      ]
     },
     "execution_count": 15,
     "metadata": {},
     "output_type": "execute_result"
    }
   ],
   "source": [
    "twomass_500_pix_3 = flux_per_pixel('stars0807202mass9.dat', 500)\n",
    "vvv_500_pix_3 = flux_per_pixel('stars080720vvv9.dat', 500, VVV=True)\n",
    "twomass_500_pix_3, vvv_500_pix_3"
   ]
  },
  {
   "cell_type": "code",
   "execution_count": null,
   "metadata": {},
   "outputs": [],
   "source": []
  }
 ],
 "metadata": {
  "kernelspec": {
   "display_name": "Python 3",
   "language": "python",
   "name": "python3"
  },
  "language_info": {
   "codemirror_mode": {
    "name": "ipython",
    "version": 3
   },
   "file_extension": ".py",
   "mimetype": "text/x-python",
   "name": "python",
   "nbconvert_exporter": "python",
   "pygments_lexer": "ipython3",
   "version": "3.7.4"
  }
 },
 "nbformat": 4,
 "nbformat_minor": 2
}
