{
 "cells": [
  {
   "cell_type": "markdown",
   "metadata": {},
   "source": [
    "# Started 1/27/22\n",
    "## Goal: Get centers for each image for querying"
   ]
  },
  {
   "cell_type": "code",
   "execution_count": 1,
   "metadata": {},
   "outputs": [
    {
     "name": "stderr",
     "output_type": "stream",
     "text": [
      "WARNING: OldEarthOrientationDataWarning: Your version of the IERS Bulletin A is 427.9 days old. For best precision (on the order of arcseconds), you must download an up-to-date IERS Bulletin A table. To do so, run:\n",
      "\n",
      ">>> from astroplan import download_IERS_A\n",
      ">>> download_IERS_A()\n",
      " [astroplan.utils]\n"
     ]
    }
   ],
   "source": [
    "#Get the centers and headers for each Fits image\n",
    "from astropy import stats\n",
    "import scipy.ndimage\n",
    "import numpy as np\n",
    "%matplotlib inline\n",
    "import pylab as plt\n",
    "plt.rcParams['image.origin'] = 'lower'\n",
    "import glob\n",
    "from astropy.io import fits\n",
    "from astropy import visualization\n",
    "from astropy import coordinates, units as u\n",
    "from astropy.table import Table, Column\n",
    "from astropy import table\n",
    "from astropy import wcs\n",
    "from astroquery.vizier import Vizier\n",
    "from astroplan import FixedTarget\n",
    "from astroplan.plots import plot_finder_image\n",
    "from astroquery.simbad import Simbad\n",
    "Simbad.reset_votable_fields()\n",
    "Simbad.add_votable_fields('flux(V)', 'flux(B)', 'flux(I)', 'otype')"
   ]
  },
  {
   "cell_type": "code",
   "execution_count": 2,
   "metadata": {},
   "outputs": [],
   "source": [
    "files = glob.glob('./MIRIS_data/MS1*.fits')\n",
    "data = [fits.getdata(x) for x in files]\n",
    "header = fits.getheader(files[0])\n",
    "width = header['IMWIDTH']\n",
    "height = header['IMHEIGHT']\n",
    "pixscale = header['PIXSCALE']"
   ]
  },
  {
   "cell_type": "code",
   "execution_count": 3,
   "metadata": {},
   "outputs": [],
   "source": [
    "headers = []\n",
    "centers = []\n",
    "for file in files:\n",
    "    #header per image\n",
    "    header = fits.getheader(file)\n",
    "    headers.append(header)\n",
    "    #pixel coordinates\n",
    "    centerx = header['RA-CNT']\n",
    "    centery = header['DEC-CNT']\n",
    "    centers.append((centerx,centery))"
   ]
  },
  {
   "cell_type": "markdown",
   "metadata": {},
   "source": [
    "# Goal: Get background flux "
   ]
  },
  {
   "cell_type": "code",
   "execution_count": 4,
   "metadata": {},
   "outputs": [
    {
     "name": "stderr",
     "output_type": "stream",
     "text": [
      "C:\\Users\\mjfer\\Anaconda3\\lib\\site-packages\\astropy\\units\\quantity.py:481: RuntimeWarning: divide by zero encountered in true_divide\n",
      "  result = super().__array_ufunc__(function, method, *arrays, **kwargs)\n"
     ]
    }
   ],
   "source": [
    "from background_per_pix import miris_bgd_flux"
   ]
  },
  {
   "cell_type": "code",
   "execution_count": null,
   "metadata": {},
   "outputs": [],
   "source": [
    "table_f = miris_bgd_flux(centers, fk5=True)"
   ]
  },
  {
   "cell_type": "code",
   "execution_count": null,
   "metadata": {},
   "outputs": [],
   "source": []
  }
 ],
 "metadata": {
  "kernelspec": {
   "display_name": "Python 3",
   "language": "python",
   "name": "python3"
  },
  "language_info": {
   "codemirror_mode": {
    "name": "ipython",
    "version": 3
   },
   "file_extension": ".py",
   "mimetype": "text/x-python",
   "name": "python",
   "nbconvert_exporter": "python",
   "pygments_lexer": "ipython3",
   "version": "3.7.4"
  }
 },
 "nbformat": 4,
 "nbformat_minor": 2
}
