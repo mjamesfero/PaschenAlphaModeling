{
 "cells": [
  {
   "cell_type": "code",
   "execution_count": 2,
   "metadata": {},
   "outputs": [
    {
     "name": "stdout",
     "output_type": "stream",
     "text": [
      "gzip was not found on your system! You should solve this issue for astroquery.eso to be at its best!\n",
      "On POSIX system: make sure gzip is installed and in your path!On Windows: same for 7-zip (http://www.7-zip.org)!\n"
     ]
    }
   ],
   "source": [
    "from astropy import coordinates\n",
    "from astropy import units as u\n",
    "import numpy as np\n",
    "from astroquery.simbad import Simbad\n",
    "from astroplan import Observer\n",
    "from astroplan import FixedTarget\n",
    "from astropy.time import Time\n",
    "from astroplan.plots import plot_airmass \n",
    "import matplotlib.pyplot as plt \n",
    "from astropy.coordinates import EarthLocation\n",
    "from astroplan.plots import plot_finder_image\n",
    "from astroplan.plots import plot_sky"
   ]
  },
  {
   "cell_type": "code",
   "execution_count": 3,
   "metadata": {},
   "outputs": [],
   "source": [
    "from astroplan import download_IERS_A\n",
    "download_IERS_A()"
   ]
  },
  {
   "cell_type": "code",
   "execution_count": 61,
   "metadata": {},
   "outputs": [],
   "source": [
    "def observing_loc(time):\n",
    "    start = Time('2020-08-02T00:22:00')\n",
    "    radius_sat = 7*10**6\n",
    "    radius_earth = 6.371*10**6\n",
    "    G_val = 6.67*(10**(-11))\n",
    "    m_earth = 5.97*(10**24)\n",
    "    period = 2*np.pi*np.sqrt(radius_sat**3/(G_val*m_earth))\n",
    "    half_period = period/2\n",
    "    day = 86164\n",
    "    delta = (time - start).value*86400\n",
    "    cycles = delta // period\n",
    "    remainder = delta - cycles*period\n",
    "    days = delta // day\n",
    "    angle = (remainder - days*day)/day\n",
    "    lon_rad = 2 * np.pi * angle * u.rad\n",
    "    if remainder <= half_period:\n",
    "        lat = (180*(0.5 - remainder/half_period)*u.deg).to_string(unit=u.degree)\n",
    "        lon_adj = (-lon_rad).to(u.deg)\n",
    "    else:\n",
    "        remainder -= half_period\n",
    "        lat = ((180*(remainder/half_period - 0.5))*u.deg).to_string(unit=u.degree)\n",
    "        lon_adj = (180*u.rad - lon_rad).to(u.deg)\n",
    "    if lon_adj < -180*u.deg:\n",
    "        lon_adj += 360*u.deg\n",
    "    lon = lon_adj.to_string(unit=u.degree)\n",
    "    SPAM = Observer(location=coordinates.EarthLocation(lat=lat, lon=lon, height=600*u.km),\n",
    "               name='Smallsat Paschen Alpha Mapping',\n",
    "              )\n",
    "    return SPAM"
   ]
  },
  {
   "cell_type": "code",
   "execution_count": 4,
   "metadata": {},
   "outputs": [],
   "source": [
    "radius = 7*10**6\n",
    "G_val = 6.67*(10**(-11))\n",
    "m_earth = 5.97*(10**24)\n",
    "period = 2*np.pi*np.sqrt(radius**3/(G_val*m_earth))"
   ]
  },
  {
   "cell_type": "code",
   "execution_count": 5,
   "metadata": {},
   "outputs": [],
   "source": [
    "now = Time.now()"
   ]
  },
  {
   "cell_type": "code",
   "execution_count": 14,
   "metadata": {},
   "outputs": [],
   "source": [
    "later = Time('2020-08-02T23:00:00')"
   ]
  },
  {
   "cell_type": "code",
   "execution_count": 15,
   "metadata": {},
   "outputs": [],
   "source": [
    "delta = later - now"
   ]
  },
  {
   "cell_type": "code",
   "execution_count": 16,
   "metadata": {},
   "outputs": [
    {
     "data": {
      "text/plain": [
       "<TimeDelta object: scale='tai' format='jd' value=1.0666663896643518>"
      ]
     },
     "execution_count": 16,
     "metadata": {},
     "output_type": "execute_result"
    }
   ],
   "source": [
    "delta"
   ]
  },
  {
   "cell_type": "code",
   "execution_count": 17,
   "metadata": {},
   "outputs": [
    {
     "data": {
      "text/plain": [
       "1.0666663896643518"
      ]
     },
     "execution_count": 17,
     "metadata": {},
     "output_type": "execute_result"
    }
   ],
   "source": [
    "delta.value"
   ]
  },
  {
   "cell_type": "code",
   "execution_count": 19,
   "metadata": {},
   "outputs": [],
   "source": [
    "test = delta.value*86400"
   ]
  },
  {
   "cell_type": "code",
   "execution_count": 20,
   "metadata": {},
   "outputs": [
    {
     "data": {
      "text/plain": [
       "5831.453888647499"
      ]
     },
     "execution_count": 20,
     "metadata": {},
     "output_type": "execute_result"
    }
   ],
   "source": [
    "period"
   ]
  },
  {
   "cell_type": "code",
   "execution_count": 23,
   "metadata": {},
   "outputs": [
    {
     "data": {
      "text/plain": [
       "(15.0, 4688.167737287513)"
      ]
     },
     "execution_count": 23,
     "metadata": {},
     "output_type": "execute_result"
    }
   ],
   "source": [
    "cycles = test//period\n",
    "remainder = test - cycles*period\n",
    "cycles, remainder"
   ]
  },
  {
   "cell_type": "code",
   "execution_count": 25,
   "metadata": {},
   "outputs": [
    {
     "data": {
      "text/plain": [
       "5831.453888647499"
      ]
     },
     "execution_count": 25,
     "metadata": {},
     "output_type": "execute_result"
    }
   ],
   "source": [
    "period"
   ]
  },
  {
   "cell_type": "code",
   "execution_count": 26,
   "metadata": {},
   "outputs": [
    {
     "data": {
      "text/plain": [
       "-86164.0"
      ]
     },
     "execution_count": 26,
     "metadata": {},
     "output_type": "execute_result"
    }
   ],
   "source": [
    "86164*np.cos(np.pi)"
   ]
  },
  {
   "cell_type": "code",
   "execution_count": 62,
   "metadata": {},
   "outputs": [],
   "source": [
    "yea = observing_loc(later)"
   ]
  },
  {
   "cell_type": "code",
   "execution_count": 63,
   "metadata": {},
   "outputs": [
    {
     "data": {
      "text/plain": [
       "<Observer: name='Smallsat Paschen Alpha Mapping',\n",
       "    location (lon, lat, el)=(-150.45398922275126 deg, 80.10065073209817 deg, 599.9999999999992 km),\n",
       "    timezone=<UTC>>"
      ]
     },
     "execution_count": 63,
     "metadata": {},
     "output_type": "execute_result"
    }
   ],
   "source": [
    "yea"
   ]
  },
  {
   "cell_type": "code",
   "execution_count": 64,
   "metadata": {},
   "outputs": [],
   "source": [
    "late = Time('2020-08-31T00:23:00')"
   ]
  },
  {
   "cell_type": "code",
   "execution_count": 65,
   "metadata": {},
   "outputs": [
    {
     "data": {
      "text/plain": [
       "<Observer: name='Smallsat Paschen Alpha Mapping',\n",
       "    location (lon, lat, el)=(-143.33112626548976 deg, -25.144863605980913 deg, 600.0000000000008 km),\n",
       "    timezone=<UTC>>"
      ]
     },
     "execution_count": 65,
     "metadata": {},
     "output_type": "execute_result"
    }
   ],
   "source": [
    "nah = observing_loc(late)\n",
    "nah"
   ]
  },
  {
   "cell_type": "code",
   "execution_count": 81,
   "metadata": {},
   "outputs": [],
   "source": [
    "gal_cen = FixedTarget.from_name(\"Sagittarius A\")\n",
    "lmc = FixedTarget.from_name(\"LMC\")\n",
    "smc = FixedTarget.from_name(\"SMC\")"
   ]
  },
  {
   "cell_type": "code",
   "execution_count": null,
   "metadata": {},
   "outputs": [],
   "source": [
    "targets = [hd168607_target, pcyg_target, rhocas_target, polaris_target]\n",
    "plot_sky(target=targets, observer=CTO, time=sunset)\n",
    "plot_sky(target=targets, observer=CTO, time=onehour_after_sunset)\n",
    "plot_sky(target=targets, observer=CTO, time=twohours_after_sunset)"
   ]
  },
  {
   "cell_type": "code",
   "execution_count": null,
   "metadata": {},
   "outputs": [],
   "source": [
    "guide_style = {'marker': '*'}\n",
    "\n",
    "plot_sky(polaris, observer, observe_time, snorth_to_east_ccw=False, style_kwargs=guide_style)\n",
    "plot_sky(altair, observer, observe_time, north_to_east_ccw=False)\n",
    "\n",
    "plt.legend(loc='center left', bbox_to_anchor=(1.25, 0.5))\n",
    "plt.show()"
   ]
  },
  {
   "cell_type": "code",
   "execution_count": 67,
   "metadata": {},
   "outputs": [
    {
     "data": {
      "text/plain": [
       "<Time object: scale='utc' format='iso' value=['2000-03-15 13:00:00.000' '2000-03-15 14:00:00.000'\n",
       " '2000-03-15 15:00:00.000' '2000-03-15 16:00:00.000'\n",
       " '2000-03-15 17:00:00.000' '2000-03-15 18:00:00.000'\n",
       " '2000-03-15 19:00:00.000' '2000-03-15 20:00:00.000'\n",
       " '2000-03-15 21:00:00.000' '2000-03-15 22:00:00.000']>"
      ]
     },
     "execution_count": 67,
     "metadata": {},
     "output_type": "execute_result"
    }
   ],
   "source": [
    "observe_time = Time('2000-03-15 17:00:00')\n",
    "observe_time = observe_time + np.linspace(-4, 5, 10)*u.hour\n",
    "observe_time"
   ]
  },
  {
   "cell_type": "code",
   "execution_count": 82,
   "metadata": {},
   "outputs": [
    {
     "data": {
      "text/plain": [
       "array([ True,  True,  True])"
      ]
     },
     "execution_count": 82,
     "metadata": {},
     "output_type": "execute_result"
    }
   ],
   "source": [
    "spam_05_t = Time('2020-08-05T20:00:00')\n",
    "spam_05 = observing_loc(spam_05_t)\n",
    "spam_05.target_is_up(spam_05_t, [gal_cen, lmc, smc])"
   ]
  },
  {
   "cell_type": "code",
   "execution_count": 83,
   "metadata": {},
   "outputs": [
    {
     "data": {
      "text/plain": [
       "array([ True,  True,  True])"
      ]
     },
     "execution_count": 83,
     "metadata": {},
     "output_type": "execute_result"
    }
   ],
   "source": [
    "spam_06_t = Time('2020-08-06T20:00:00')\n",
    "spam_06 = observing_loc(spam_06_t)\n",
    "spam_06.target_is_up(spam_06_t, [gal_cen, lmc, smc])"
   ]
  },
  {
   "cell_type": "code",
   "execution_count": 84,
   "metadata": {},
   "outputs": [
    {
     "data": {
      "text/plain": [
       "array([ True, False, False])"
      ]
     },
     "execution_count": 84,
     "metadata": {},
     "output_type": "execute_result"
    }
   ],
   "source": [
    "spam_07_t = Time('2020-08-07T20:00:00')\n",
    "spam_07 = observing_loc(spam_07_t)\n",
    "spam_07.target_is_up(spam_07_t, [gal_cen, lmc, smc])"
   ]
  },
  {
   "cell_type": "code",
   "execution_count": 85,
   "metadata": {},
   "outputs": [
    {
     "data": {
      "text/plain": [
       "array([False, False, False])"
      ]
     },
     "execution_count": 85,
     "metadata": {},
     "output_type": "execute_result"
    }
   ],
   "source": [
    "spam_08_t = Time('2020-08-08T20:00:00')\n",
    "spam_08 = observing_loc(spam_08_t)\n",
    "spam_08.target_is_up(spam_08_t, [gal_cen, lmc, smc])"
   ]
  },
  {
   "cell_type": "code",
   "execution_count": null,
   "metadata": {},
   "outputs": [],
   "source": []
  }
 ],
 "metadata": {
  "kernelspec": {
   "display_name": "Python 3",
   "language": "python",
   "name": "python3"
  },
  "language_info": {
   "codemirror_mode": {
    "name": "ipython",
    "version": 3
   },
   "file_extension": ".py",
   "mimetype": "text/x-python",
   "name": "python",
   "nbconvert_exporter": "python",
   "pygments_lexer": "ipython3",
   "version": "3.7.4"
  }
 },
 "nbformat": 4,
 "nbformat_minor": 2
}
