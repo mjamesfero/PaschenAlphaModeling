{
 "cells": [
  {
   "cell_type": "code",
   "execution_count": 1,
   "metadata": {},
   "outputs": [
    {
     "name": "stderr",
     "output_type": "stream",
     "text": [
      "WARNING: OldEarthOrientationDataWarning: Your version of the IERS Bulletin A is 140.0 days old. For best precision (on the order of arcseconds), you must download an up-to-date IERS Bulletin A table. To do so, run:\n",
      "\n",
      ">>> from astroplan import download_IERS_A\n",
      ">>> download_IERS_A()\n",
      " [astroplan.utils]\n"
     ]
    }
   ],
   "source": [
    "from astropy import stats\n",
    "import scipy.ndimage\n",
    "import numpy as np\n",
    "%matplotlib inline\n",
    "import pylab as plt\n",
    "plt.rcParams['image.origin'] = 'lower'\n",
    "import glob\n",
    "from astropy.io import fits\n",
    "from astropy import visualization\n",
    "from astropy import coordinates, units as u\n",
    "from astropy.table import Table, Column\n",
    "from astropy import table\n",
    "from astropy import wcs\n",
    "from astroquery.vizier import Vizier\n",
    "from astroplan import FixedTarget\n",
    "from astroplan.plots import plot_finder_image\n",
    "from astroquery.simbad import Simbad\n",
    "Simbad.reset_votable_fields()\n",
    "Simbad.add_votable_fields('flux(V)', 'flux(B)', 'flux(I)', 'otype')"
   ]
  },
  {
   "cell_type": "code",
   "execution_count": 2,
   "metadata": {},
   "outputs": [],
   "source": [
    "name1 = glob.glob('gc_*.fits')\n",
    "name2 = [fits.getdata(x) for x in name1]"
   ]
  },
  {
   "cell_type": "code",
   "execution_count": 3,
   "metadata": {},
   "outputs": [
    {
     "data": {
      "image/png": "[encoded data removed]",
      "text/plain": [
       "<Figure size 864x864 with 3 Axes>"
      ]
     },
     "metadata": {
      "needs_background": "light"
     },
     "output_type": "display_data"
    }
   ],
   "source": [
    "plt.figure(figsize=(12,12))\n",
    "\n",
    "for ii in range(3):\n",
    "    ax = plt.subplot(2,2,ii+1)\n",
    "    ax.imshow(name2[ii], origin='lower', vmax=2500, vmin=500)\n",
    "    ax.set_title(\"Before Dark and Flat\")"
   ]
  },
  {
   "cell_type": "code",
   "execution_count": 4,
   "metadata": {},
   "outputs": [],
   "source": [
    "header1 = fits.getheader(name1[0])\n",
    "header2 = fits.getheader(name1[1])\n",
    "header3 = fits.getheader(name1[2])\n",
    "ww = wcs.WCS(header1)"
   ]
  },
  {
   "cell_type": "code",
   "execution_count": 5,
   "metadata": {},
   "outputs": [
    {
     "data": {
      "text/plain": [
       "(array(332.33619089), array(-52.3280205))"
      ]
     },
     "execution_count": 5,
     "metadata": {},
     "output_type": "execute_result"
    }
   ],
   "source": [
    "tlx, tly = ww.wcs_pix2world(2.5, 2.5, 0)\n",
    "brx, bry = ww.wcs_pix2world(3.5, 1.5, 0)\n",
    "tlx,tly"
   ]
  },
  {
   "cell_type": "code",
   "execution_count": 6,
   "metadata": {},
   "outputs": [
    {
     "data": {
      "text/html": [
       "<i>Table length=903</i>\n",
       "<table id=\"table2133596751624\" class=\"table-striped table-bordered table-condensed\">\n",
       "<thead><tr><th>MAIN_ID</th><th>RA</th><th>DEC</th><th>RA_PREC</th><th>DEC_PREC</th><th>COO_ERR_MAJA</th><th>COO_ERR_MINA</th><th>COO_ERR_ANGLE</th><th>COO_QUAL</th><th>COO_WAVELENGTH</th><th>COO_BIBCODE</th><th>FLUX_V</th><th>FLUX_B</th><th>FLUX_I</th><th>OTYPE</th></tr></thead>\n",
       "<thead><tr><th></th><th>&quot;h:m:s&quot;</th><th>&quot;d:m:s&quot;</th><th></th><th></th><th>mas</th><th>mas</th><th>deg</th><th></th><th></th><th></th><th>mag</th><th>mag</th><th>mag</th><th></th></tr></thead>\n",
       "<thead><tr><th>object</th><th>str13</th><th>str13</th><th>int16</th><th>int16</th><th>float32</th><th>float32</th><th>int16</th><th>str1</th><th>str1</th><th>object</th><th>float32</th><th>float32</th><th>float32</th><th>object</th></tr></thead>\n",
       "<tr><td>TYC 8809-322-1</td><td>22 03 58.6323</td><td>-52 45 27.066</td><td>14</td><td>14</td><td>0.052</td><td>0.065</td><td>90</td><td>A</td><td>O</td><td>2018yCat.1345....0G</td><td>11.858</td><td>12.362</td><td>--</td><td>Star</td></tr>\n",
       "<tr><td>LEDA  439158</td><td>22 04 11.9</td><td>-52 45 14</td><td>5</td><td>5</td><td>--</td><td>--</td><td>0</td><td>D</td><td>O</td><td>2003A&amp;A...412...45P</td><td>--</td><td>--</td><td>--</td><td>Galaxy</td></tr>\n",
       "<tr><td>2MASX J22041290-5245410</td><td>22 04 12.9166</td><td>-52 45 41.161</td><td>14</td><td>14</td><td>1.038</td><td>1.289</td><td>90</td><td>C</td><td>O</td><td>2018yCat.1345....0G</td><td>--</td><td>16.66</td><td>--</td><td>Galaxy</td></tr>\n",
       "<tr><td>6dFGS gJ220357.3-524420</td><td>22 03 57.1</td><td>-52 44 20</td><td>5</td><td>5</td><td>--</td><td>--</td><td>0</td><td>D</td><td>O</td><td>2003A&amp;A...412...45P</td><td>--</td><td>16.59</td><td>--</td><td>Galaxy</td></tr>\n",
       "<tr><td>Str 2201-530</td><td>22 04</td><td>-52.8</td><td>2</td><td>2</td><td>--</td><td>--</td><td>0</td><td>E</td><td></td><td></td><td>--</td><td>--</td><td>--</td><td>ClG</td></tr>\n",
       "<tr><td>LSQ 14dus</td><td>22 03 44.68</td><td>-52 43 19.8</td><td>6</td><td>6</td><td>--</td><td>--</td><td>0</td><td>D</td><td></td><td>2014ATel.6398....1E</td><td>--</td><td>--</td><td>--</td><td>SN</td></tr>\n",
       "<tr><td>LEDA  440124</td><td>22 03 53.8</td><td>-52 41 27</td><td>5</td><td>5</td><td>--</td><td>--</td><td>0</td><td>D</td><td>O</td><td>2003A&amp;A...412...45P</td><td>--</td><td>--</td><td>--</td><td>Galaxy</td></tr>\n",
       "<tr><td>DES J220346.27-524201.2</td><td>22 03 46.280</td><td>-52 42 01.27</td><td>7</td><td>7</td><td>--</td><td>--</td><td>0</td><td>C</td><td>O</td><td>2018ApJS..239...18A</td><td>--</td><td>--</td><td>--</td><td>Candidate_RRLyr</td></tr>\n",
       "<tr><td>LEDA  439554</td><td>22 03 37.0</td><td>-52 43 42</td><td>5</td><td>5</td><td>--</td><td>--</td><td>0</td><td>D</td><td>O</td><td>2003A&amp;A...412...45P</td><td>--</td><td>--</td><td>--</td><td>Galaxy</td></tr>\n",
       "<tr><td>...</td><td>...</td><td>...</td><td>...</td><td>...</td><td>...</td><td>...</td><td>...</td><td>...</td><td>...</td><td>...</td><td>...</td><td>...</td><td>...</td><td>...</td></tr>\n",
       "<tr><td>LEDA  453238</td><td>22 10 04.2</td><td>-51 43 44</td><td>5</td><td>5</td><td>--</td><td>--</td><td>0</td><td>D</td><td>O</td><td>2003A&amp;A...412...45P</td><td>--</td><td>--</td><td>--</td><td>Galaxy</td></tr>\n",
       "<tr><td>1RXS J221111.0-533812</td><td>22 11 10.994</td><td>-53 38 12.52</td><td>7</td><td>7</td><td>--</td><td>--</td><td>0</td><td>E</td><td></td><td>2000IAUC.7432R...1V</td><td>--</td><td>--</td><td>--</td><td>X</td></tr>\n",
       "<tr><td>2dFGRS TGS823Z152</td><td>21 59 51.69</td><td>-51 32 02.5</td><td>6</td><td>6</td><td>--</td><td>--</td><td>0</td><td>D</td><td></td><td>2001MNRAS.328.1039C</td><td>--</td><td>19.06</td><td>--</td><td>Galaxy</td></tr>\n",
       "<tr><td>CD-51 13150</td><td>22 03 09.0588</td><td>-51 22 48.243</td><td>14</td><td>14</td><td>0.034</td><td>0.044</td><td>90</td><td>A</td><td>O</td><td>2018yCat.1345....0G</td><td>10.562</td><td>11.102</td><td>--</td><td>PM*</td></tr>\n",
       "<tr><td>CD-51 13166</td><td>22 05 05.6697</td><td>-51 22 55.784</td><td>14</td><td>14</td><td>0.020</td><td>0.027</td><td>90</td><td>A</td><td>O</td><td>2018yCat.1345....0G</td><td>10.8</td><td>11.43</td><td>--</td><td>Star</td></tr>\n",
       "<tr><td>Gaia DR2 6557582971208539776</td><td>21 54 55.7109</td><td>-52 40 00.657</td><td>14</td><td>14</td><td>0.390</td><td>0.522</td><td>90</td><td>A</td><td>O</td><td>2018yCat.1345....0G</td><td>--</td><td>--</td><td>--</td><td>Star</td></tr>\n",
       "<tr><td>UCAC2   9623546</td><td>21 56 57.6390</td><td>-51 53 43.277</td><td>14</td><td>14</td><td>0.022</td><td>0.027</td><td>90</td><td>A</td><td>O</td><td>2018yCat.1345....0G</td><td>11.87</td><td>12.771</td><td>10.85</td><td>Star</td></tr>\n",
       "<tr><td>UCAC2   9392809</td><td>22 12 53.8995</td><td>-52 24 48.316</td><td>14</td><td>14</td><td>0.019</td><td>0.025</td><td>90</td><td>A</td><td>O</td><td>2018yCat.1345....0G</td><td>12.3</td><td>13.496</td><td>11.0</td><td>Star</td></tr>\n",
       "<tr><td>CD-54  9173</td><td>22 08 27.5415</td><td>-53 58 49.851</td><td>14</td><td>14</td><td>0.025</td><td>0.027</td><td>90</td><td>A</td><td>O</td><td>2018yCat.1345....0G</td><td>10.46</td><td>11.52</td><td>--</td><td>Star</td></tr>\n",
       "<tr><td>LEDA  449484</td><td>22 11 51.4</td><td>-52 02 28</td><td>5</td><td>5</td><td>--</td><td>--</td><td>0</td><td>D</td><td>O</td><td>2003A&amp;A...412...45P</td><td>--</td><td>--</td><td>--</td><td>Galaxy</td></tr>\n",
       "</table>"
      ],
      "text/plain": [
       "<Table length=903>\n",
       "          MAIN_ID                  RA      ...  FLUX_I      OTYPE     \n",
       "                                \"h:m:s\"    ...   mag                  \n",
       "           object                str13     ... float32      object    \n",
       "---------------------------- ------------- ... ------- ---------------\n",
       "              TYC 8809-322-1 22 03 58.6323 ...      --            Star\n",
       "                LEDA  439158    22 04 11.9 ...      --          Galaxy\n",
       "     2MASX J22041290-5245410 22 04 12.9166 ...      --          Galaxy\n",
       "     6dFGS gJ220357.3-524420    22 03 57.1 ...      --          Galaxy\n",
       "                Str 2201-530         22 04 ...      --             ClG\n",
       "                   LSQ 14dus   22 03 44.68 ...      --              SN\n",
       "                LEDA  440124    22 03 53.8 ...      --          Galaxy\n",
       "     DES J220346.27-524201.2  22 03 46.280 ...      -- Candidate_RRLyr\n",
       "                LEDA  439554    22 03 37.0 ...      --          Galaxy\n",
       "                         ...           ... ...     ...             ...\n",
       "                LEDA  453238    22 10 04.2 ...      --          Galaxy\n",
       "       1RXS J221111.0-533812  22 11 10.994 ...      --               X\n",
       "           2dFGRS TGS823Z152   21 59 51.69 ...      --          Galaxy\n",
       "                 CD-51 13150 22 03 09.0588 ...      --             PM*\n",
       "                 CD-51 13166 22 05 05.6697 ...      --            Star\n",
       "Gaia DR2 6557582971208539776 21 54 55.7109 ...      --            Star\n",
       "             UCAC2   9623546 21 56 57.6390 ...   10.85            Star\n",
       "             UCAC2   9392809 22 12 53.8995 ...    11.0            Star\n",
       "                 CD-54  9173 22 08 27.5415 ...      --            Star\n",
       "                LEDA  449484    22 11 51.4 ...      --          Galaxy"
      ]
     },
     "execution_count": 6,
     "metadata": {},
     "output_type": "execute_result"
    }
   ],
   "source": [
    "ra1, dec1 = ww.wcs_pix2world(137,81,0)\n",
    "center1 = coordinates.SkyCoord(ra1, dec1, frame='fk5', unit=(u.deg, u.deg))\n",
    "calstar = Simbad.query_region(center1, radius=5000*u.arcsec)\n",
    "calstar"
   ]
  },
  {
   "cell_type": "code",
   "execution_count": 99,
   "metadata": {},
   "outputs": [],
   "source": [
    "indices = []\n",
    "for ii in range(9142):\n",
    "    for jj in range(6202):\n",
    "        if not np.isnan(name2[0][ii][jj]):\n",
    "            indices.append([ii,jj])"
   ]
  }
 ],
 "metadata": {
  "kernelspec": {
   "display_name": "Python 3",
   "language": "python",
   "name": "python3"
  },
  "language_info": {
   "codemirror_mode": {
    "name": "ipython",
    "version": 3
   },
   "file_extension": ".py",
   "mimetype": "text/x-python",
   "name": "python",
   "nbconvert_exporter": "python",
   "pygments_lexer": "ipython3",
   "version": "3.7.4"
  }
 },
 "nbformat": 4,
 "nbformat_minor": 2
}
