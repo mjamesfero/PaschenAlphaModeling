{
 "cells": [
  {
   "cell_type": "code",
   "execution_count": 1,
   "metadata": {},
   "outputs": [],
   "source": [
    "import numpy as np"
   ]
  },
  {
   "cell_type": "code",
   "execution_count": 6,
   "metadata": {},
   "outputs": [],
   "source": [
    "data = np.loadtxt('stars080420.dat', unpack=True, usecols=[7,8,9,11,12,13,14,15,16,17,18])"
   ]
  },
  {
   "cell_type": "code",
   "execution_count": 7,
   "metadata": {},
   "outputs": [
    {
     "data": {
      "text/plain": [
       "array([[8.1000e+00, 2.7000e+00, 8.3000e+00, ..., 1.2900e+01, 1.4400e+01,\n",
       "        1.2100e+01],\n",
       "       [3.6000e-02, 9.0000e-03, 3.6000e-02, ..., 3.8000e-02, 3.8000e-02,\n",
       "        3.8000e-02],\n",
       "       [0.0000e+00, 0.0000e+00, 0.0000e+00, ..., 0.0000e+00, 9.4000e-01,\n",
       "        0.0000e+00],\n",
       "       ...,\n",
       "       [1.4967e+01, 1.0291e+01, 1.4597e+01, ..., 1.6992e+01, 1.6683e+01,\n",
       "        1.6662e+01],\n",
       "       [1.4334e+01, 9.7570e+00, 1.3915e+01, ..., 1.6616e+01, 1.6289e+01,\n",
       "        1.6187e+01],\n",
       "       [1.4182e+01, 9.4900e+00, 1.3791e+01, ..., 1.6574e+01, 1.6244e+01,\n",
       "        1.6132e+01]])"
      ]
     },
     "execution_count": 7,
     "metadata": {},
     "output_type": "execute_result"
    }
   ],
   "source": [
    "data"
   ]
  },
  {
   "cell_type": "code",
   "execution_count": null,
   "metadata": {},
   "outputs": [],
   "source": []
  }
 ],
 "metadata": {
  "kernelspec": {
   "display_name": "Python 3",
   "language": "python",
   "name": "python3"
  },
  "language_info": {
   "codemirror_mode": {
    "name": "ipython",
    "version": 3
   },
   "file_extension": ".py",
   "mimetype": "text/x-python",
   "name": "python",
   "nbconvert_exporter": "python",
   "pygments_lexer": "ipython3",
   "version": "3.7.4"
  }
 },
 "nbformat": 4,
 "nbformat_minor": 2
}
