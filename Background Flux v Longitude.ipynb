{
 "cells": [
  {
   "cell_type": "code",
   "execution_count": 1,
   "metadata": {},
   "outputs": [
    {
     "name": "stderr",
     "output_type": "stream",
     "text": [
      "C:\\Users\\mjfer\\Anaconda3\\lib\\site-packages\\astropy\\units\\quantity.py:481: RuntimeWarning: divide by zero encountered in true_divide\n",
      "  result = super().__array_ufunc__(function, method, *arrays, **kwargs)\n"
     ]
    }
   ],
   "source": [
    "import numpy as np\n",
    "from astropy import units as u\n",
    "from astropy import constants as c\n",
    "from random import choice\n",
    "from astropy.table import Table\n",
    "from astropy.io import fits\n",
    "from trilegal_bgd_flux import background_flux\n",
    "from background_per_pix import miris_bgd_flux#, glon_glat_1\n",
    "import matplotlib.pyplot as plt\n",
    "#plt.style.use('dark_background')"
   ]
  },
  {
   "cell_type": "code",
   "execution_count": 1,
   "metadata": {},
   "outputs": [],
   "source": [
    "import glob\n",
    "import numpy as np\n",
    "from astropy import wcs\n",
    "import astropy.units as u\n",
    "from astropy.io import fits\n",
    "from astropy.table import Table\n",
    "import pandas\n",
    "\n",
    "name1 = glob.glob('gc_*.fits')\n",
    "name2 = [fits.getdata(x) for x in name1]\n",
    "\n",
    "headers = []\n",
    "for ii in range(3):\n",
    "    headers.append(fits.getheader(name1[ii]))\n",
    "ww = [wcs.WCS(headers[0]), wcs.WCS(headers[1]), wcs.WCS(headers[2])]\n",
    "\n",
    "indices = [[],[],[]]\n",
    "glon_glat_1 = []\n",
    "glon_glat_2 = []\n",
    "glon_glat_3 = []\n",
    "for ii in range(9142):\n",
    "    for jj in range(6202):\n",
    "        if not np.isnan(name2[0][ii][jj]):\n",
    "            indices[0].append([ii,jj])\n",
    "            ra1, dec1 = ww[0].wcs_pix2world(ii,jj,0)\n",
    "            glon_glat_1.append([ra1, dec1])\n",
    "        if not np.isnan(name2[1][ii][jj]):\n",
    "            indices[1].append([ii,jj])\n",
    "            ra1, dec1 = ww[1].wcs_pix2world(ii,jj,0)\n",
    "            glon_glat_2.append([ra1, dec1])\n",
    "        if not np.isnan(name2[2][ii][jj]):\n",
    "            indices[2].append([ii,jj])\n",
    "            ra1, dec1 = ww[2].wcs_pix2world(ii,jj,0)\n",
    "            glon_glat_3.append([ra1, dec1])\n",
    "df = pandas.DataFrame([glon_glat_1, glon_glat_2, glon_glat_3])\n",
    "df.to_csv('miris_coords.csv')"
   ]
  },
  {
   "cell_type": "markdown",
   "metadata": {},
   "source": [
    "# 6/14/2021 New Data"
   ]
  },
  {
   "cell_type": "code",
   "execution_count": 2,
   "metadata": {},
   "outputs": [],
   "source": [
    "glon_and_glat = [(2.5, 0.1), (2.5, 1), (2.5, 2), (2.5, 3), (2.5, -1), \n",
    "                (-2.5, 0.1), (-2.5, 1), (-2.5, 2), (-2.5, 3), (-2.5, -1),\n",
    "                (-1.5, 0.1), (-1.5, 1), (-1.5, 2), (-1.5, 3), (-1.5, -1),\n",
    "                (1.5, 0.1), (1.5, 1), (1.5, 2), (1.5, 3), (1.5, -1),\n",
    "                (0, 0.1), (0, 1), (0, 2), (0, 3), (0, -1),\n",
    "                (5.0, 0.1), (5.0, 1), (5.0, 2), (5.0, 3), (5.0, -1),\n",
    "                (-5.0, 0.1), (-5.0, 1), (-5.0, 2), (-5.0, 3), (-5.0, -1),\n",
    "                (-10.0, 0.1), (-10.0, 1), (-10.0, 2), (-10.0, 3), (-10.0, -1),\n",
    "                (-20.0, 0.1), (-20.0, 1), (-20.0, 2), (-20.0, 3), (-20.0, -1),\n",
    "                (-30.0, 0.1), (-30.0, 1), (-30.0, 2), (-30.0, 3), (-30.0, -1),\n",
    "                (-40.0, 0.1), (-40.0, 1), (-40.0, 2), (-40.0, 3), (-40.0, -1),\n",
    "                (-50.0, 0.1), (-50.0, 1), (-50.0, 2), (-50.0, 3), (-50.0, -1),\n",
    "                (-60.0, 0.1), (-60.0, 1), (-60.0, 2), (-60.0, 3), (-60.0, -1),\n",
    "                (270.0, 0.1), (270.0, 1), (270.0, 2), (270.0, 3), (270.0, -1),\n",
    "                (240.0, 0.1), (240.0, 1), (240.0, 2), (240.0, 3), (240.0, -1),\n",
    "                (210.0, 0.1), (210.0, 1), (210.0, 2), (210.0, 3), (210.0, -1),\n",
    "                (180.0, 0.1), (180.0, 1), (180.0, 2), (180.0, 3), (180.0, -1),\n",
    "               ]"
   ]
  },
  {
   "cell_type": "code",
   "execution_count": null,
   "metadata": {},
   "outputs": [],
   "source": [
    "tablef = miris_bgd_flux(glon_and_glat)"
   ]
  },
  {
   "cell_type": "code",
   "execution_count": null,
   "metadata": {},
   "outputs": [],
   "source": [
    "table_f = Table(tablef)"
   ]
  },
  {
   "cell_type": "code",
   "execution_count": null,
   "metadata": {},
   "outputs": [],
   "source": [
    "fig, ax = plt.subplots(figsize=(25,15))\n",
    "sc = ax.scatter(table_f['longitude'], table_f['latitude'], c=table_f['flux per pix'])\n",
    "ax.set_ylabel('Galactic Latitude [Deg]', fontsize='20')\n",
    "ax.set_xlabel('Galactic Longitude [Deg]', fontsize='20')\n",
    "plt.title('Background Flux in the Galactic Plane', fontsize='30')\n",
    "cbar = fig.colorbar(sc)\n",
    "cbar.set_label(\"Flux per pixel [Jy]\", fontsize='20')"
   ]
  },
  {
   "cell_type": "markdown",
   "metadata": {},
   "source": [
    "# 6/11/2021 Old Data"
   ]
  },
  {
   "cell_type": "code",
   "execution_count": null,
   "metadata": {},
   "outputs": [],
   "source": [
    "glons = []\n",
    "glats = []\n",
    "flux = []\n",
    "for glon, glat in glon_and_glat:\n",
    "               glons.append(glon)\n",
    "               glats.append(glat)\n",
    "               flux.append(background_flux(glon, glat))"
   ]
  },
  {
   "cell_type": "code",
   "execution_count": null,
   "metadata": {},
   "outputs": [],
   "source": [
    "result = {}\n",
    "result['longitude']= glons\n",
    "result['latitude'] = glats\n",
    "result['flux per pix'] = flux\n",
    "\n",
    "table_m = Table(result)"
   ]
  },
  {
   "cell_type": "code",
   "execution_count": null,
   "metadata": {},
   "outputs": [],
   "source": [
    "fig, ax = plt.subplots(figsize=(20,10))\n",
    "sc = ax.scatter(table_m['longitude'], table_m['latitude'], s=1000, c=table_m['flux per pix'])\n",
    "ax.set_ylabel('Galactic Latitude [Deg]', fontsize='20')\n",
    "ax.set_xlabel('Galactic Longitude [Deg]', fontsize='20')\n",
    "plt.title('Background Flux in the Galactic Plane, m > 16', fontsize='30')\n",
    "cbar = fig.colorbar(sc)\n",
    "cbar.set_label(\"Flux per pixel [Jy]\", fontsize='20')"
   ]
  },
  {
   "cell_type": "markdown",
   "metadata": {},
   "source": [
    "# 9/23/2020 Old Data"
   ]
  },
  {
   "cell_type": "code",
   "execution_count": 2,
   "metadata": {},
   "outputs": [],
   "source": [
    "models_table = Table.read('coelho14_model_paa.fits')"
   ]
  },
  {
   "cell_type": "code",
   "execution_count": 3,
   "metadata": {},
   "outputs": [],
   "source": [
    "def value_keys(models_table):\n",
    "    logg_values = []\n",
    "    teff_values = []\n",
    "    \n",
    "    #creates a list of all of the possible logg and teff values\n",
    "    #this makes matching quicker\n",
    "    for value in models_table['logg']:\n",
    "        if value not in logg_values:\n",
    "            logg_values.append(value)\n",
    "        \n",
    "    for value in models_table['teff']:\n",
    "        if value not in teff_values:\n",
    "            teff_values.append(value)\n",
    "\n",
    "    teff_dict = {\"attribute\": \"effective temperature\"}\n",
    "    logg_dict = {\"attribute\": \"surface gravity (log base 10)\"}\n",
    "    \n",
    "    #this stores all of the indices for each teff and logg value in a dictionary\n",
    "    #for easy access since those indices don't change from query to query\n",
    "    for value in teff_values:\n",
    "        indices = []\n",
    "        for ii in range(len(models_table)):\n",
    "            if models_table['teff'][ii] == value:\n",
    "                indices.append(ii)\n",
    "        teff_dict[f'value is {value}'] = indices\n",
    "    \n",
    "    for value in logg_values:\n",
    "        indices = []\n",
    "        for ii in range(len(models_table)):\n",
    "            if models_table['logg'][ii] == value:\n",
    "                indices.append(ii)\n",
    "        logg_dict[f'value is {value}'] = indices\n",
    "\n",
    "    return teff_dict, logg_dict, teff_values, logg_values"
   ]
  },
  {
   "cell_type": "code",
   "execution_count": 4,
   "metadata": {},
   "outputs": [],
   "source": [
    "teff_dict, logg_dict, teff_values, logg_values = value_keys(models_table)"
   ]
  },
  {
   "cell_type": "code",
   "execution_count": 5,
   "metadata": {},
   "outputs": [],
   "source": [
    "def correct_keys(jj, models_table, tbl):\n",
    "    keys = []\n",
    "    \n",
    "    #this gives which teff and logg value the star is closest to\n",
    "    init_min = np.argmin(np.abs(teff_values - tbl['teff'][jj]))\n",
    "    teff_val = teff_values[init_min]\n",
    "    init_min = np.argmin(np.abs(logg_values - tbl['logg'][jj]))\n",
    "    logg_val = logg_values[init_min]\n",
    "    \n",
    "    #this gives the indices that correspond to that teff and logg value\n",
    "    keys_teff = teff_dict[f'value is {teff_val}']\n",
    "    keys_logg = logg_dict[f'value is {logg_val}']\n",
    "    \n",
    "    #this looks for any overlap between indices for teff and logg for a star\n",
    "    for key in keys_teff:\n",
    "        if key in keys_logg:\n",
    "            keys.append(key)\n",
    "    \n",
    "    #if overlap can't be found, only the keys for teff are considered because that\n",
    "    #seemed more important than prioriting logg\n",
    "    #the choice function is to randomize which index is chosen \n",
    "    #since a lot of stars correspond to a particular teff logg combo\n",
    "    if len(keys) == 0:\n",
    "        index = choice(keys_teff)\n",
    "    else:\n",
    "        index = choice(keys)\n",
    "    \n",
    "    return index"
   ]
  },
  {
   "cell_type": "code",
   "execution_count": 6,
   "metadata": {},
   "outputs": [],
   "source": [
    "def closest_model(name, VVV=False):\n",
    "    \"\"\"\"\n",
    "    This assumes that we value teff being correct over logg.\n",
    "    Unfortunately, trying to find the best fit from existing data requires us to use a strict poset.\n",
    "    So one has to be prioritized over the other.\n",
    "    \"\"\"\n",
    "    data_stars = np.loadtxt('./TRILEGAL_data/' + name, unpack=True)\n",
    "    \n",
    "    logTe = []\n",
    "    logg = []\n",
    "    Av = []\n",
    "    J = []\n",
    "    H = []\n",
    "    Ks = []\n",
    "    \n",
    "    zpt_J = 1594*u.Jy\n",
    "    zpt_H = 1024*u.Jy\n",
    "    zpt_Ks = 666.8*u.Jy\n",
    "    \n",
    "    index = 13\n",
    "    \n",
    "    #converting to the zeropoints for VVV\n",
    "    if VVV:\n",
    "        index += 2\n",
    "        zpt_J -= 44.2*u.Jy\n",
    "        zpt_H += 2.4*u.Jy\n",
    "        zpt_Ks += 5.8*u.Jy\n",
    "        \n",
    "    zpts = Table({'J': [zpt_J],\n",
    "                 'H': [zpt_H],\n",
    "                 'Ks': [zpt_Ks],\n",
    "                 'K': [zpt_Ks],\n",
    "    })\n",
    "\n",
    "    for ii in range(len(data_stars[0])):\n",
    "        if data_stars[index, ii] >= 16:\n",
    "            logTe.append(data_stars[5, ii])\n",
    "            logg.append(data_stars[6, ii])\n",
    "            Av.append(data_stars[8, ii])\n",
    "            J.append(data_stars[index - 2, ii])\n",
    "            H.append(data_stars[index - 1, ii])\n",
    "            Ks.append(data_stars[index, ii])\n",
    "\n",
    "    tbl = Table({'logTe': logTe,\n",
    "                 'logg': logg,\n",
    "                 'Av': Av,\n",
    "                 'J': J,\n",
    "                 'H': H,\n",
    "                 'Ks': Ks,\n",
    "                 })\n",
    "\n",
    "    tbl.add_column(col=(10**tbl['logTe']), name='teff')\n",
    "    \n",
    "    data_rows = []\n",
    "    #only keeping columns that seem relevant or interesting\n",
    "    good_col = ['paa', 'paac_l', 'paac_h', 'J', 'H', 'K', 'fn']\n",
    "    kept_col = ['Av', 'J', 'H', 'Ks']\n",
    "    \n",
    "    #faster way to make a table\n",
    "    for jj in range(len(tbl)):\n",
    "        #an index that prioritizes teff\n",
    "        index = correct_keys(jj=jj, models_table=models_table, tbl=tbl)\n",
    "        \n",
    "        temp_dict = {}\n",
    "        for hh in good_col:\n",
    "            temp_dict[f'{hh} model'] = models_table[hh][index]\n",
    "            \n",
    "        for hh in kept_col:\n",
    "            if hh is 'Av':\n",
    "                temp_dict[f'{hh}'] = tbl[hh][jj]\n",
    "                temp_dict['A_paa'] = np.round(0.15 * temp_dict['Av'], decimals=5)\n",
    "            else:\n",
    "                temp_dict[f'{hh} tril'] = tbl[hh][jj]\n",
    "                temp_dict[f'{hh} flux tril'] = zpts[hh][0] * 10**(tbl[hh][jj] / -2.5)\n",
    "        \n",
    "        temp_dict['flux ratio'] = temp_dict['Ks flux tril'] / temp_dict['K model']\n",
    "        temp_dict['f_paa'] = temp_dict['flux ratio'] * temp_dict['paa model']\n",
    "        temp_dict['f_paac_l'] = temp_dict['flux ratio'] * temp_dict['paac_l model'] \n",
    "        temp_dict['f_paac_h'] = temp_dict['flux ratio'] * temp_dict['paac_h model'] \n",
    "        \n",
    "        data_rows.append(temp_dict)\n",
    "        \n",
    "    result = Table(rows=data_rows)\n",
    "    \n",
    "    return result"
   ]
  },
  {
   "cell_type": "code",
   "execution_count": 7,
   "metadata": {},
   "outputs": [],
   "source": [
    "def flux_per_pix(pixels, name, VVV=False):\n",
    "    new_data = closest_model(name, VVV=VVV)\n",
    "    dimmed_flux = new_data['f_paa'] * 10**(new_data['A_paa']/-2.5)\n",
    "    total_flux = dimmed_flux.sum()\n",
    "    fpp = total_flux / (pixels**2)\n",
    "    return fpp"
   ]
  },
  {
   "cell_type": "code",
   "execution_count": 8,
   "metadata": {},
   "outputs": [],
   "source": [
    "longs = ['0','1','2','3','4','5','6','7','8','9','10','11','12','13','14','15','16','17','18','19','20']"
   ]
  },
  {
   "cell_type": "code",
   "execution_count": 9,
   "metadata": {},
   "outputs": [],
   "source": [
    "data_m = []\n",
    "\n",
    "for long in longs:\n",
    "    temp_dict = {}\n",
    "    temp_dict['longitude'] = long\n",
    "    temp_dict['latitude'] = -0.5\n",
    "    temp_dict['flux per pix'] = flux_per_pix(50, f'glat_n0p5_glon_{long}_m.dat')\n",
    "    data_m.append(temp_dict)\n",
    "    \n",
    "for long in longs:\n",
    "    temp_dict = {}\n",
    "    temp_dict['longitude'] = long\n",
    "    temp_dict['latitude'] = 0\n",
    "    temp_dict['flux per pix'] = flux_per_pix(50, f'glat_0_glon_{long}_m.dat')\n",
    "    data_m.append(temp_dict)\n",
    "                  \n",
    "for long in longs:\n",
    "    temp_dict = {}\n",
    "    temp_dict['longitude'] = long\n",
    "    temp_dict['latitude'] = 0.5\n",
    "    temp_dict['flux per pix'] = flux_per_pix(50, f'glat_0p5_glon_{long}_m.dat')\n",
    "    data_m.append(temp_dict)\n",
    "    \n",
    "table_m = Table(rows=data_m)"
   ]
  },
  {
   "cell_type": "code",
   "execution_count": null,
   "metadata": {},
   "outputs": [],
   "source": [
    "data_v = []\n",
    "for long in longs:\n",
    "    temp_dict = {}\n",
    "    temp_dict['longitude'] = long\n",
    "    temp_dict['latitude'] = -0.5\n",
    "    temp_dict['flux per pix'] = flux_per_pix(50, f'glat_n0p5_glon_{long}_v.day', VVV=True)\n",
    "    data_v.append(temp_dict)\n",
    "    \n",
    "for long in longs:\n",
    "    temp_dict = {}\n",
    "    temp_dict['longitude'] = long\n",
    "    temp_dict['latitude'] = 0\n",
    "    temp_dict['flux per pix'] = flux_per_pix(50, f'glat_0_glon_{long}_v.dat', VVV=True)\n",
    "    data_v.append(temp_dict\n",
    "    \n",
    "for long in longs:\n",
    "    temp_dict = {}\n",
    "    temp_dict['longitude'] = long\n",
    "    temp_dict['latitude'] = 0.5\n",
    "    temp_dict['flux per pix'] = flux_per_pix(50, f'glat_0p5_glon_{long}_v.dat', VVV=True)\n",
    "    data_v.append(temp_dict)\n",
    "                  \n",
    "table_v = Table(rows=data_v)"
   ]
  },
  {
   "cell_type": "code",
   "execution_count": null,
   "metadata": {},
   "outputs": [],
   "source": [
    "data_v"
   ]
  },
  {
   "cell_type": "code",
   "execution_count": 82,
   "metadata": {},
   "outputs": [],
   "source": [
    "table_m = Table(rows=data_m)"
   ]
  },
  {
   "cell_type": "code",
   "execution_count": 23,
   "metadata": {},
   "outputs": [
    {
     "data": {
      "text/html": [
       "<i>Table length=63</i>\n",
       "<table id=\"table3022363422280\" class=\"table-striped table-bordered table-condensed\">\n",
       "<thead><tr><th>flux per pix</th><th>latitude</th><th>longitude</th></tr></thead>\n",
       "<thead><tr><th>object</th><th>float64</th><th>str2</th></tr></thead>\n",
       "<tr><td>0.0014058476706164762 Jy</td><td>-0.5</td><td>0</td></tr>\n",
       "<tr><td>0.0010438664073940658 Jy</td><td>-0.5</td><td>1</td></tr>\n",
       "<tr><td>0.0007033561042593905 Jy</td><td>-0.5</td><td>2</td></tr>\n",
       "<tr><td>0.0005001650158766503 Jy</td><td>-0.5</td><td>3</td></tr>\n",
       "<tr><td>0.0003686970480296555 Jy</td><td>-0.5</td><td>4</td></tr>\n",
       "<tr><td>0.00029141186671995437 Jy</td><td>-0.5</td><td>5</td></tr>\n",
       "<tr><td>0.00023305914121358011 Jy</td><td>-0.5</td><td>6</td></tr>\n",
       "<tr><td>0.00018678722221831292 Jy</td><td>-0.5</td><td>7</td></tr>\n",
       "<tr><td>0.00015804255723349478 Jy</td><td>-0.5</td><td>8</td></tr>\n",
       "<tr><td>0.0001296941536887059 Jy</td><td>-0.5</td><td>9</td></tr>\n",
       "<tr><td>...</td><td>...</td><td>...</td></tr>\n",
       "<tr><td>9.375239336437245e-05 Jy</td><td>0.5</td><td>11</td></tr>\n",
       "<tr><td>8.359175546620814e-05 Jy</td><td>0.5</td><td>12</td></tr>\n",
       "<tr><td>7.237316735788424e-05 Jy</td><td>0.5</td><td>13</td></tr>\n",
       "<tr><td>6.887161427377824e-05 Jy</td><td>0.5</td><td>14</td></tr>\n",
       "<tr><td>6.167529394880378e-05 Jy</td><td>0.5</td><td>15</td></tr>\n",
       "<tr><td>5.619544069699561e-05 Jy</td><td>0.5</td><td>16</td></tr>\n",
       "<tr><td>5.4328872145507065e-05 Jy</td><td>0.5</td><td>17</td></tr>\n",
       "<tr><td>5.0612034865335055e-05 Jy</td><td>0.5</td><td>18</td></tr>\n",
       "<tr><td>4.9541490843703904e-05 Jy</td><td>0.5</td><td>19</td></tr>\n",
       "<tr><td>4.6229672609884504e-05 Jy</td><td>0.5</td><td>20</td></tr>\n",
       "</table>"
      ],
      "text/plain": [
       "<Table length=63>\n",
       "       flux per pix       latitude longitude\n",
       "          object          float64     str2  \n",
       "------------------------- -------- ---------\n",
       " 0.0014058476706164762 Jy     -0.5         0\n",
       " 0.0010438664073940658 Jy     -0.5         1\n",
       " 0.0007033561042593905 Jy     -0.5         2\n",
       " 0.0005001650158766503 Jy     -0.5         3\n",
       " 0.0003686970480296555 Jy     -0.5         4\n",
       "0.00029141186671995437 Jy     -0.5         5\n",
       "0.00023305914121358011 Jy     -0.5         6\n",
       "0.00018678722221831292 Jy     -0.5         7\n",
       "0.00015804255723349478 Jy     -0.5         8\n",
       " 0.0001296941536887059 Jy     -0.5         9\n",
       "                      ...      ...       ...\n",
       " 9.375239336437245e-05 Jy      0.5        11\n",
       " 8.359175546620814e-05 Jy      0.5        12\n",
       " 7.237316735788424e-05 Jy      0.5        13\n",
       " 6.887161427377824e-05 Jy      0.5        14\n",
       " 6.167529394880378e-05 Jy      0.5        15\n",
       " 5.619544069699561e-05 Jy      0.5        16\n",
       "5.4328872145507065e-05 Jy      0.5        17\n",
       "5.0612034865335055e-05 Jy      0.5        18\n",
       "4.9541490843703904e-05 Jy      0.5        19\n",
       "4.6229672609884504e-05 Jy      0.5        20"
      ]
     },
     "execution_count": 23,
     "metadata": {},
     "output_type": "execute_result"
    }
   ],
   "source": [
    "table_m"
   ]
  },
  {
   "cell_type": "code",
   "execution_count": 83,
   "metadata": {},
   "outputs": [
    {
     "data": {
      "text/html": [
       "&lt;Column name=&apos;flux per pix&apos; dtype=&apos;float64&apos; unit=&apos;Jy&apos; length=63&gt;\n",
       "<table>\n",
       "<tr><td>0.0014058476706164762</td></tr>\n",
       "<tr><td>0.0010438664073940658</td></tr>\n",
       "<tr><td>0.0007033561042593905</td></tr>\n",
       "<tr><td>0.0005001650158766503</td></tr>\n",
       "<tr><td>0.0003686970480296555</td></tr>\n",
       "<tr><td>0.00029141186671995437</td></tr>\n",
       "<tr><td>0.00023305914121358011</td></tr>\n",
       "<tr><td>0.00018678722221831292</td></tr>\n",
       "<tr><td>0.00015804255723349478</td></tr>\n",
       "<tr><td>0.0001296941536887059</td></tr>\n",
       "<tr><td>0.00011590641917768059</td></tr>\n",
       "<tr><td>9.983558479121039e-05</td></tr>\n",
       "<tr><td>...</td></tr>\n",
       "<tr><td>0.00012882165055099105</td></tr>\n",
       "<tr><td>0.00010759153487332434</td></tr>\n",
       "<tr><td>9.375239336437245e-05</td></tr>\n",
       "<tr><td>8.359175546620814e-05</td></tr>\n",
       "<tr><td>7.237316735788424e-05</td></tr>\n",
       "<tr><td>6.887161427377824e-05</td></tr>\n",
       "<tr><td>6.167529394880378e-05</td></tr>\n",
       "<tr><td>5.619544069699561e-05</td></tr>\n",
       "<tr><td>5.4328872145507065e-05</td></tr>\n",
       "<tr><td>5.0612034865335055e-05</td></tr>\n",
       "<tr><td>4.9541490843703904e-05</td></tr>\n",
       "<tr><td>4.6229672609884504e-05</td></tr>\n",
       "</table>"
      ],
      "text/plain": [
       "<Column name='flux per pix' dtype='float64' unit='Jy' length=63>\n",
       " 0.0014058476706164762\n",
       " 0.0010438664073940658\n",
       " 0.0007033561042593905\n",
       " 0.0005001650158766503\n",
       " 0.0003686970480296555\n",
       "0.00029141186671995437\n",
       "0.00023305914121358011\n",
       "0.00018678722221831292\n",
       "0.00015804255723349478\n",
       " 0.0001296941536887059\n",
       "0.00011590641917768059\n",
       " 9.983558479121039e-05\n",
       "                   ...\n",
       "0.00012882165055099105\n",
       "0.00010759153487332434\n",
       " 9.375239336437245e-05\n",
       " 8.359175546620814e-05\n",
       " 7.237316735788424e-05\n",
       " 6.887161427377824e-05\n",
       " 6.167529394880378e-05\n",
       " 5.619544069699561e-05\n",
       "5.4328872145507065e-05\n",
       "5.0612034865335055e-05\n",
       "4.9541490843703904e-05\n",
       "4.6229672609884504e-05"
      ]
     },
     "execution_count": 83,
     "metadata": {},
     "output_type": "execute_result"
    }
   ],
   "source": [
    "table_m['flux per pix'] = table_m['flux per pix'].astype('U22').astype(float)\n",
    "table_m['flux per pix'] = table_m['flux per pix'] * u.Jy"
   ]
  },
  {
   "cell_type": "code",
   "execution_count": 84,
   "metadata": {},
   "outputs": [],
   "source": [
    "fn = 'background_flux_per_pix_2mass.fits'\n",
    "table_m.write(fn, overwrite=True)"
   ]
  },
  {
   "cell_type": "code",
   "execution_count": 85,
   "metadata": {
    "scrolled": false
   },
   "outputs": [
    {
     "data": {
      "image/png": "[encoded data removed]",
      "text/plain": [
       "<Figure size 1440x720 with 2 Axes>"
      ]
     },
     "metadata": {},
     "output_type": "display_data"
    }
   ],
   "source": [
    "fig, ax = plt.subplots(figsize=(20,10))\n",
    "sc = ax.scatter(table_m['longitude'], table_m['latitude'], s=1000, c=table_m['flux per pix'].quantity)\n",
    "ax.set_ylabel('Galactic Latitude [Deg]', fontsize='20')\n",
    "ax.set_xlabel('Galactic Longitude [Deg]', fontsize='20')\n",
    "plt.title('Background Flux in the Galactic Plane, m > 16', fontsize='30')\n",
    "cbar = fig.colorbar(sc)\n",
    "cbar.set_label(\"Flux per pixel [Jy]\", fontsize='20')\n",
    "#plt.colorbar()"
   ]
  },
  {
   "cell_type": "code",
   "execution_count": null,
   "metadata": {},
   "outputs": [],
   "source": []
  }
 ],
 "metadata": {
  "kernelspec": {
   "display_name": "Python 3",
   "language": "python",
   "name": "python3"
  },
  "language_info": {
   "codemirror_mode": {
    "name": "ipython",
    "version": 3
   },
   "file_extension": ".py",
   "mimetype": "text/x-python",
   "name": "python",
   "nbconvert_exporter": "python",
   "pygments_lexer": "ipython3",
   "version": "3.7.4"
  }
 },
 "nbformat": 4,
 "nbformat_minor": 2
}
