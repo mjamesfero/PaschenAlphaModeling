{
 "cells": [
  {
   "cell_type": "code",
   "execution_count": 1,
   "metadata": {},
   "outputs": [],
   "source": [
    "import numpy as np\n",
    "from astropy.table import Table"
   ]
  },
  {
   "cell_type": "code",
   "execution_count": 2,
   "metadata": {},
   "outputs": [
    {
     "name": "stdout",
     "output_type": "stream",
     "text": [
      "gzip was not found on your system! You should solve this issue for astroquery.eso to be at its best!\n",
      "On POSIX system: make sure gzip is installed and in your path!On Windows: same for 7-zip (http://www.7-zip.org)!\n"
     ]
    }
   ],
   "source": [
    "%run functions.py"
   ]
  },
  {
   "cell_type": "markdown",
   "metadata": {},
   "source": [
    "I'm going to run this first with data from the 2MASS set and then with data from the VVV set. Besides that, the parameters are the same.\n",
    "$$l: 0.1$$\n",
    "$$b: 2.5$$\n",
    "$$FOV: 0.45852444445deg^2$$\n",
    "limiting mag in 3rd filter: $$18$$"
   ]
  },
  {
   "cell_type": "code",
   "execution_count": 3,
   "metadata": {},
   "outputs": [],
   "source": [
    "data_stars = np.loadtxt('stars0805202mass.dat', unpack=True)"
   ]
  },
  {
   "cell_type": "code",
   "execution_count": 4,
   "metadata": {},
   "outputs": [],
   "source": [
    "k_mag = []\n",
    "h_mag = []\n",
    "for ii in range(len(data_stars[0])):\n",
    "    if data_stars[13,ii] >= 16:\n",
    "        k_mag.append(data_stars[13,ii])\n",
    "        h_mag.append(data_stars[12,ii])\n",
    "background_stars = Table({'hmag': h_mag,\n",
    "                          'kmag': k_mag,\n",
    "                         })"
   ]
  },
  {
   "cell_type": "code",
   "execution_count": 5,
   "metadata": {},
   "outputs": [
    {
     "data": {
      "text/latex": [
       "$0.082664741 \\; \\mathrm{Jy}$"
      ],
      "text/plain": [
       "<Quantity 0.08266474 Jy>"
      ]
     },
     "execution_count": 5,
     "metadata": {},
     "output_type": "execute_result"
    }
   ],
   "source": [
    "flux = flux_function(hmag=background_stars['hmag'], kmag=background_stars['kmag'])\n",
    "flux_sum = np.sum(flux)\n",
    "flux_per_pixel = flux_sum / 2048 #this was the number of pixs i assumed when generating the stars\n",
    "flux_per_pixel"
   ]
  },
  {
   "cell_type": "code",
   "execution_count": 6,
   "metadata": {},
   "outputs": [],
   "source": [
    "data_stars_vvv = np.loadtxt('stars080520vvv.dat', unpack=True)"
   ]
  },
  {
   "cell_type": "code",
   "execution_count": 7,
   "metadata": {},
   "outputs": [],
   "source": [
    "k_mag = []\n",
    "h_mag = []\n",
    "for ii in range(len(data_stars_vvv[0])):\n",
    "    if data_stars_vvv[14,ii] >= 16:\n",
    "        k_mag.append(data_stars_vvv[15,ii])\n",
    "        h_mag.append(data_stars_vvv[14,ii])\n",
    "background_stars_vvv = Table({'hmag': h_mag,\n",
    "                          'kmag': k_mag,\n",
    "                         })"
   ]
  },
  {
   "cell_type": "code",
   "execution_count": 8,
   "metadata": {},
   "outputs": [
    {
     "data": {
      "text/latex": [
       "$0.065832503 \\; \\mathrm{Jy}$"
      ],
      "text/plain": [
       "<Quantity 0.0658325 Jy>"
      ]
     },
     "execution_count": 8,
     "metadata": {},
     "output_type": "execute_result"
    }
   ],
   "source": [
    "flux_vvv = flux_function(hmag=background_stars_vvv['hmag'], kmag=background_stars_vvv['kmag'])\n",
    "flux_sum_vvv = np.sum(flux_vvv)\n",
    "flux_per_pixel_vvv = flux_sum_vvv / 2048 #this was the number of pixs i assumed when generating the stars\n",
    "flux_per_pixel_vvv"
   ]
  },
  {
   "cell_type": "code",
   "execution_count": null,
   "metadata": {},
   "outputs": [],
   "source": []
  }
 ],
 "metadata": {
  "kernelspec": {
   "display_name": "Python 3",
   "language": "python",
   "name": "python3"
  },
  "language_info": {
   "codemirror_mode": {
    "name": "ipython",
    "version": 3
   },
   "file_extension": ".py",
   "mimetype": "text/x-python",
   "name": "python",
   "nbconvert_exporter": "python",
   "pygments_lexer": "ipython3",
   "version": "3.7.4"
  }
 },
 "nbformat": 4,
 "nbformat_minor": 2
}
